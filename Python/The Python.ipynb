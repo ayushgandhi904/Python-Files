{
 "cells": [
  {
   "cell_type": "markdown",
   "id": "caf1f946",
   "metadata": {},
   "source": [
    "# The Python Language Topics Guide\n",
    "\n",
    "#### This file contains almost every topic which covers the python language, however basic operations & it's example are cover for every topic. A more operation in every topic can be detailed through its individual reference.|"
   ]
  },
  {
   "cell_type": "markdown",
   "id": "552a4c47",
   "metadata": {},
   "source": [
    "## 1.)Print Statement"
   ]
  },
  {
   "cell_type": "markdown",
   "id": "3accdc3b",
   "metadata": {},
   "source": [
    "#### To print the specific message on screen or any device"
   ]
  },
  {
   "cell_type": "code",
   "execution_count": 1,
   "id": "2e3dfd34",
   "metadata": {},
   "outputs": [
    {
     "name": "stdout",
     "output_type": "stream",
     "text": [
      "Ayush: Hello Python\n"
     ]
    }
   ],
   "source": [
    "print(\"Ayush: Hello Python\")"
   ]
  },
  {
   "cell_type": "code",
   "execution_count": 2,
   "id": "6b592332",
   "metadata": {},
   "outputs": [
    {
     "name": "stdout",
     "output_type": "stream",
     "text": [
      "Python: Hello Ayush, how are you?\n"
     ]
    }
   ],
   "source": [
    "print(\"Python: Hello Ayush, how are you?\")"
   ]
  },
  {
   "cell_type": "code",
   "execution_count": 3,
   "id": "1f933525",
   "metadata": {},
   "outputs": [
    {
     "name": "stdout",
     "output_type": "stream",
     "text": [
      "Ayush: I am absolutely fine, will you walktrhough to each and every topics of your language ?\n"
     ]
    }
   ],
   "source": [
    "print(\"Ayush: I am absolutely fine, will you walktrhough to each and every topics of your language ?\")"
   ]
  },
  {
   "cell_type": "code",
   "execution_count": 4,
   "id": "b5712a38",
   "metadata": {},
   "outputs": [
    {
     "name": "stdout",
     "output_type": "stream",
     "text": [
      "Python: Why not?, I am there for you. It will be long journey, Are you ready for it ?\n"
     ]
    }
   ],
   "source": [
    "print(\"Python: Why not?, I am there for you. It will be long journey, Are you ready for it ?\")"
   ]
  },
  {
   "cell_type": "code",
   "execution_count": 5,
   "id": "81644e95",
   "metadata": {},
   "outputs": [
    {
     "name": "stdout",
     "output_type": "stream",
     "text": [
      "Ayush: Yes! Absoultely\n"
     ]
    }
   ],
   "source": [
    "print(\"Ayush: Yes! Absoultely\")"
   ]
  },
  {
   "cell_type": "markdown",
   "id": "1910c64a",
   "metadata": {},
   "source": [
    "## 2.) Comment"
   ]
  },
  {
   "cell_type": "markdown",
   "id": "dc517028",
   "metadata": {},
   "source": [
    "#### To increase the code readability"
   ]
  },
  {
   "cell_type": "code",
   "execution_count": 6,
   "id": "c4fdf176",
   "metadata": {},
   "outputs": [],
   "source": [
    "#Hello Ayush, this is known as comment. Every time I can't take part in your code, but I will brief your every code through this.\n",
    "\n",
    "#Thank you for being with me.\n",
    "\n",
    "#Time to get started :-)"
   ]
  },
  {
   "cell_type": "markdown",
   "id": "3c2d141b",
   "metadata": {},
   "source": [
    "## 3.) Mathematical Calculation"
   ]
  },
  {
   "cell_type": "markdown",
   "id": "893c89a0",
   "metadata": {},
   "source": [
    "#### To perform mathematical calculation like calculator using mathematical operator"
   ]
  },
  {
   "cell_type": "code",
   "execution_count": 7,
   "id": "952ad0e8",
   "metadata": {},
   "outputs": [
    {
     "data": {
      "text/plain": [
       "20"
      ]
     },
     "execution_count": 7,
     "metadata": {},
     "output_type": "execute_result"
    }
   ],
   "source": [
    "#addition\n",
    "8 + 12"
   ]
  },
  {
   "cell_type": "code",
   "execution_count": 8,
   "id": "640f16e0",
   "metadata": {},
   "outputs": [
    {
     "data": {
      "text/plain": [
       "9340"
      ]
     },
     "execution_count": 8,
     "metadata": {},
     "output_type": "execute_result"
    }
   ],
   "source": [
    "#subtraction \n",
    "9595 - 255"
   ]
  },
  {
   "cell_type": "code",
   "execution_count": 9,
   "id": "13c30cfa",
   "metadata": {},
   "outputs": [
    {
     "data": {
      "text/plain": [
       "184"
      ]
     },
     "execution_count": 9,
     "metadata": {},
     "output_type": "execute_result"
    }
   ],
   "source": [
    "#multiplication\n",
    "8*23"
   ]
  },
  {
   "cell_type": "code",
   "execution_count": 10,
   "id": "52f531bd",
   "metadata": {},
   "outputs": [
    {
     "data": {
      "text/plain": [
       "2.5217391304347827"
      ]
     },
     "execution_count": 10,
     "metadata": {},
     "output_type": "execute_result"
    }
   ],
   "source": [
    "#division\n",
    "58/23"
   ]
  },
  {
   "cell_type": "code",
   "execution_count": 11,
   "id": "7cac3533",
   "metadata": {},
   "outputs": [
    {
     "data": {
      "text/plain": [
       "2"
      ]
     },
     "execution_count": 11,
     "metadata": {},
     "output_type": "execute_result"
    }
   ],
   "source": [
    "#absolute division\n",
    "18//7"
   ]
  },
  {
   "cell_type": "code",
   "execution_count": 12,
   "id": "0459d800",
   "metadata": {},
   "outputs": [
    {
     "data": {
      "text/plain": [
       "512"
      ]
     },
     "execution_count": 12,
     "metadata": {},
     "output_type": "execute_result"
    }
   ],
   "source": [
    "#exponent power\n",
    "8**3"
   ]
  },
  {
   "cell_type": "code",
   "execution_count": 13,
   "id": "014c4b9f",
   "metadata": {},
   "outputs": [
    {
     "data": {
      "text/plain": [
       "124"
      ]
     },
     "execution_count": 13,
     "metadata": {},
     "output_type": "execute_result"
    }
   ],
   "source": [
    "#divison remainder\n",
    "2149%135"
   ]
  },
  {
   "cell_type": "code",
   "execution_count": 14,
   "id": "12abca97",
   "metadata": {},
   "outputs": [
    {
     "data": {
      "text/plain": [
       "44.0"
      ]
     },
     "execution_count": 14,
     "metadata": {},
     "output_type": "execute_result"
    }
   ],
   "source": [
    "#basic calculation\n",
    "(28*2)-(24/2)"
   ]
  },
  {
   "cell_type": "code",
   "execution_count": 15,
   "id": "9c2e268d",
   "metadata": {},
   "outputs": [
    {
     "data": {
      "text/plain": [
       "False"
      ]
     },
     "execution_count": 15,
     "metadata": {},
     "output_type": "execute_result"
    }
   ],
   "source": [
    "#comparison operator --> it gives value in True or False\n",
    "\n",
    "2 > 5"
   ]
  },
  {
   "cell_type": "code",
   "execution_count": 16,
   "id": "ca85c391",
   "metadata": {},
   "outputs": [
    {
     "data": {
      "text/plain": [
       "True"
      ]
     },
     "execution_count": 16,
     "metadata": {},
     "output_type": "execute_result"
    }
   ],
   "source": [
    "-25.2 < 1"
   ]
  },
  {
   "cell_type": "code",
   "execution_count": 17,
   "id": "77811311",
   "metadata": {},
   "outputs": [
    {
     "data": {
      "text/plain": [
       "True"
      ]
     },
     "execution_count": 17,
     "metadata": {},
     "output_type": "execute_result"
    }
   ],
   "source": [
    "#for checking equality\n",
    "\n",
    "5 == 5"
   ]
  },
  {
   "cell_type": "code",
   "execution_count": 18,
   "id": "03e5b07b",
   "metadata": {},
   "outputs": [
    {
     "data": {
      "text/plain": [
       "True"
      ]
     },
     "execution_count": 18,
     "metadata": {},
     "output_type": "execute_result"
    }
   ],
   "source": [
    "#for checking non equality\n",
    "\n",
    "6 != 23"
   ]
  },
  {
   "cell_type": "code",
   "execution_count": 19,
   "id": "5f3487ad",
   "metadata": {},
   "outputs": [
    {
     "data": {
      "text/plain": [
       "True"
      ]
     },
     "execution_count": 19,
     "metadata": {},
     "output_type": "execute_result"
    }
   ],
   "source": [
    "2 >= 2"
   ]
  },
  {
   "cell_type": "markdown",
   "id": "e9a9581f",
   "metadata": {},
   "source": [
    "### Assigning data to variable "
   ]
  },
  {
   "cell_type": "code",
   "execution_count": 20,
   "id": "1b129cc2",
   "metadata": {},
   "outputs": [],
   "source": [
    "#any of the number or string can be assign to variable\n",
    "\n",
    "a = 25 #Value of a is 25\n",
    "b = -14.2\n",
    "c = \"hello ayush\""
   ]
  },
  {
   "cell_type": "code",
   "execution_count": 21,
   "id": "ef63ada8",
   "metadata": {},
   "outputs": [
    {
     "name": "stdout",
     "output_type": "stream",
     "text": [
      "25\n"
     ]
    }
   ],
   "source": [
    "print (a)"
   ]
  },
  {
   "cell_type": "code",
   "execution_count": 22,
   "id": "4f9b5352",
   "metadata": {},
   "outputs": [
    {
     "name": "stdout",
     "output_type": "stream",
     "text": [
      "hello ayush\n"
     ]
    }
   ],
   "source": [
    "print(c)"
   ]
  },
  {
   "cell_type": "code",
   "execution_count": 23,
   "id": "8b6e3e3a",
   "metadata": {},
   "outputs": [
    {
     "data": {
      "text/plain": [
       "float"
      ]
     },
     "execution_count": 23,
     "metadata": {},
     "output_type": "execute_result"
    }
   ],
   "source": [
    "#its data type can be know by type\n",
    "\n",
    "type(b)"
   ]
  },
  {
   "cell_type": "code",
   "execution_count": 24,
   "id": "176875e2",
   "metadata": {},
   "outputs": [
    {
     "data": {
      "text/plain": [
       "str"
      ]
     },
     "execution_count": 24,
     "metadata": {},
     "output_type": "execute_result"
    }
   ],
   "source": [
    "type(c)"
   ]
  },
  {
   "cell_type": "code",
   "execution_count": 25,
   "id": "dbbfcdf0",
   "metadata": {},
   "outputs": [
    {
     "data": {
      "text/plain": [
       "int"
      ]
     },
     "execution_count": 25,
     "metadata": {},
     "output_type": "execute_result"
    }
   ],
   "source": [
    "type(a)"
   ]
  },
  {
   "cell_type": "markdown",
   "id": "9750e245",
   "metadata": {},
   "source": [
    "## 4.) Data Types"
   ]
  },
  {
   "cell_type": "markdown",
   "id": "55031c3d",
   "metadata": {},
   "source": [
    "### *Numerical Data Types*"
   ]
  },
  {
   "cell_type": "markdown",
   "id": "aa941dd7",
   "metadata": {},
   "source": [
    "### **Integer**"
   ]
  },
  {
   "cell_type": "markdown",
   "id": "869a8f92",
   "metadata": {},
   "source": [
    "#### Numbers without Decimals"
   ]
  },
  {
   "cell_type": "code",
   "execution_count": 26,
   "id": "05e010ea",
   "metadata": {},
   "outputs": [
    {
     "data": {
      "text/plain": [
       "7777778"
      ]
     },
     "execution_count": 26,
     "metadata": {},
     "output_type": "execute_result"
    }
   ],
   "source": [
    "#Number without decimal are integer\n",
    "\n",
    "40\n",
    "-60\n",
    "7777778"
   ]
  },
  {
   "cell_type": "code",
   "execution_count": 27,
   "id": "9bfee16e",
   "metadata": {},
   "outputs": [
    {
     "data": {
      "text/plain": [
       "int"
      ]
     },
     "execution_count": 27,
     "metadata": {},
     "output_type": "execute_result"
    }
   ],
   "source": [
    "#to know the data type \n",
    "\n",
    "a = 56615\n",
    "type(a)"
   ]
  },
  {
   "cell_type": "code",
   "execution_count": 28,
   "id": "1c7fea98",
   "metadata": {},
   "outputs": [
    {
     "data": {
      "text/plain": [
       "1283918464548864"
      ]
     },
     "execution_count": 28,
     "metadata": {},
     "output_type": "execute_result"
    }
   ],
   "source": [
    "#integer calculation \n",
    "\n",
    "12**14"
   ]
  },
  {
   "cell_type": "code",
   "execution_count": 29,
   "id": "ebbd4096",
   "metadata": {},
   "outputs": [
    {
     "name": "stdout",
     "output_type": "stream",
     "text": [
      "39526\n"
     ]
    }
   ],
   "source": [
    "a = -7\n",
    "b = 39533\n",
    "\n",
    "print(a+b)"
   ]
  },
  {
   "cell_type": "markdown",
   "id": "5928a1e3",
   "metadata": {},
   "source": [
    "### **Float**"
   ]
  },
  {
   "cell_type": "markdown",
   "id": "aba2f4af",
   "metadata": {},
   "source": [
    "#### Numbers with decimals"
   ]
  },
  {
   "cell_type": "code",
   "execution_count": 30,
   "id": "9f22ba04",
   "metadata": {},
   "outputs": [
    {
     "data": {
      "text/plain": [
       "-0.8"
      ]
     },
     "execution_count": 30,
     "metadata": {},
     "output_type": "execute_result"
    }
   ],
   "source": [
    "#Eg.\n",
    "\n",
    "2.0\n",
    "861.9\n",
    "-0.8"
   ]
  },
  {
   "cell_type": "code",
   "execution_count": 31,
   "id": "1bbb538b",
   "metadata": {},
   "outputs": [
    {
     "data": {
      "text/plain": [
       "float"
      ]
     },
     "execution_count": 31,
     "metadata": {},
     "output_type": "execute_result"
    }
   ],
   "source": [
    "a = 915.2\n",
    "type(a)"
   ]
  },
  {
   "cell_type": "code",
   "execution_count": 32,
   "id": "b6032959",
   "metadata": {},
   "outputs": [
    {
     "data": {
      "text/plain": [
       "75.76343999999999"
      ]
     },
     "execution_count": 32,
     "metadata": {},
     "output_type": "execute_result"
    }
   ],
   "source": [
    "#calculation with floats\n",
    "\n",
    "88.1 - 12.33656"
   ]
  },
  {
   "cell_type": "code",
   "execution_count": 33,
   "id": "4b64004f",
   "metadata": {},
   "outputs": [
    {
     "name": "stdout",
     "output_type": "stream",
     "text": [
      "11.313708498984761\n"
     ]
    }
   ],
   "source": [
    "#calculation with float & Intger\n",
    "\n",
    "a = 2\n",
    "b = 3.5\n",
    "\n",
    "print(a**b)"
   ]
  },
  {
   "cell_type": "code",
   "execution_count": 34,
   "id": "9a83a957",
   "metadata": {},
   "outputs": [
    {
     "data": {
      "text/plain": [
       "25"
      ]
     },
     "execution_count": 34,
     "metadata": {},
     "output_type": "execute_result"
    }
   ],
   "source": [
    "#to convert any data type into another --> ___dtype_name___()\n",
    "\n",
    "int(25.125)"
   ]
  },
  {
   "cell_type": "code",
   "execution_count": 35,
   "id": "e2109a15",
   "metadata": {},
   "outputs": [
    {
     "data": {
      "text/plain": [
       "30.0"
      ]
     },
     "execution_count": 35,
     "metadata": {},
     "output_type": "execute_result"
    }
   ],
   "source": [
    "float(15)*2"
   ]
  },
  {
   "cell_type": "code",
   "execution_count": 36,
   "id": "5e562778",
   "metadata": {},
   "outputs": [
    {
     "data": {
      "text/plain": [
       "5.0"
      ]
     },
     "execution_count": 36,
     "metadata": {},
     "output_type": "execute_result"
    }
   ],
   "source": [
    "float(18) + int(-13.23)"
   ]
  },
  {
   "cell_type": "code",
   "execution_count": 37,
   "id": "30f58a58",
   "metadata": {},
   "outputs": [
    {
     "data": {
      "text/plain": [
       "66.0"
      ]
     },
     "execution_count": 37,
     "metadata": {},
     "output_type": "execute_result"
    }
   ],
   "source": [
    "22353 // 335.25"
   ]
  },
  {
   "cell_type": "markdown",
   "id": "2e66be85",
   "metadata": {},
   "source": [
    "### **Complex Numbers**"
   ]
  },
  {
   "cell_type": "markdown",
   "id": "327684da",
   "metadata": {},
   "source": [
    "#### Numbers with imaginery number (j)"
   ]
  },
  {
   "cell_type": "code",
   "execution_count": 38,
   "id": "a97e9d40",
   "metadata": {},
   "outputs": [
    {
     "data": {
      "text/plain": [
       "2j"
      ]
     },
     "execution_count": 38,
     "metadata": {},
     "output_type": "execute_result"
    }
   ],
   "source": [
    "#Eg:\n",
    "\n",
    "2j"
   ]
  },
  {
   "cell_type": "code",
   "execution_count": 39,
   "id": "a6505369",
   "metadata": {},
   "outputs": [
    {
     "data": {
      "text/plain": [
       "complex"
      ]
     },
     "execution_count": 39,
     "metadata": {},
     "output_type": "execute_result"
    }
   ],
   "source": [
    "type (-8j+3)"
   ]
  },
  {
   "cell_type": "code",
   "execution_count": 40,
   "id": "e385dee9",
   "metadata": {},
   "outputs": [
    {
     "data": {
      "text/plain": [
       "(7+4j)"
      ]
     },
     "execution_count": 40,
     "metadata": {},
     "output_type": "execute_result"
    }
   ],
   "source": [
    "#calculation with complex numbers\n",
    "\n",
    "(6j + 5) - (2j - 2)"
   ]
  },
  {
   "cell_type": "code",
   "execution_count": 41,
   "id": "824d8cc8",
   "metadata": {},
   "outputs": [
    {
     "data": {
      "text/plain": [
       "(-23+0j)"
      ]
     },
     "execution_count": 41,
     "metadata": {},
     "output_type": "execute_result"
    }
   ],
   "source": [
    "#mixing with the dtypes\n",
    "\n",
    "complex(2) - int(25.321)"
   ]
  },
  {
   "cell_type": "code",
   "execution_count": 42,
   "id": "5622bb04",
   "metadata": {},
   "outputs": [
    {
     "name": "stdout",
     "output_type": "stream",
     "text": [
      "(-63-168j)\n"
     ]
    }
   ],
   "source": [
    "a = (-8j - 3) \n",
    "b = 21\n",
    "\n",
    "print(a*b)"
   ]
  },
  {
   "cell_type": "markdown",
   "id": "eee9dbfd",
   "metadata": {},
   "source": [
    "### **Binary data ypes**"
   ]
  },
  {
   "cell_type": "code",
   "execution_count": 43,
   "id": "ffbcc68a",
   "metadata": {},
   "outputs": [
    {
     "data": {
      "text/plain": [
       "'0b100100111'"
      ]
     },
     "execution_count": 43,
     "metadata": {},
     "output_type": "execute_result"
    }
   ],
   "source": [
    "#the numbers with value 0 or 1 are called binary\n",
    "#to get binary digits of any numbers\n",
    "\n",
    "bin(295)"
   ]
  },
  {
   "cell_type": "markdown",
   "id": "7e2f77ce",
   "metadata": {},
   "source": [
    "### **Octal data types**"
   ]
  },
  {
   "cell_type": "code",
   "execution_count": 44,
   "id": "64afe5df",
   "metadata": {},
   "outputs": [
    {
     "data": {
      "text/plain": [
       "'0x19a1'"
      ]
     },
     "execution_count": 44,
     "metadata": {},
     "output_type": "execute_result"
    }
   ],
   "source": [
    "#the numbers with value 0 to 8 are called binary\n",
    "#to get octal digits of any numbers\n",
    "\n",
    "hex(6561)"
   ]
  },
  {
   "cell_type": "markdown",
   "id": "2bf4ab6a",
   "metadata": {},
   "source": [
    "### **Hexagonal data types**"
   ]
  },
  {
   "cell_type": "code",
   "execution_count": 45,
   "id": "ab22649d",
   "metadata": {},
   "outputs": [
    {
     "data": {
      "text/plain": [
       "'0o21754'"
      ]
     },
     "execution_count": 45,
     "metadata": {},
     "output_type": "execute_result"
    }
   ],
   "source": [
    "#the numbers with value 0 to 8 are called binary\n",
    "#to get octal digits of any numbers\n",
    "\n",
    "oct(9196)"
   ]
  },
  {
   "cell_type": "markdown",
   "id": "ac7df44d",
   "metadata": {},
   "source": [
    "### *To perform more mathematical operation using math library*"
   ]
  },
  {
   "cell_type": "code",
   "execution_count": 46,
   "id": "edd278fe",
   "metadata": {},
   "outputs": [],
   "source": [
    "#import math library to perform more mathematical function\n",
    "\n",
    "import math"
   ]
  },
  {
   "cell_type": "code",
   "execution_count": 47,
   "id": "c29f41ba",
   "metadata": {},
   "outputs": [
    {
     "data": {
      "text/plain": [
       "28"
      ]
     },
     "execution_count": 47,
     "metadata": {},
     "output_type": "execute_result"
    }
   ],
   "source": [
    "#floor --> to find closest integer below the value\n",
    "math.floor(28.3)"
   ]
  },
  {
   "cell_type": "code",
   "execution_count": 48,
   "id": "bef7979f",
   "metadata": {},
   "outputs": [
    {
     "data": {
      "text/plain": [
       "36"
      ]
     },
     "execution_count": 48,
     "metadata": {},
     "output_type": "execute_result"
    }
   ],
   "source": [
    "#ceil --> to find closest integer above the value\n",
    "math.ceil(35.1)"
   ]
  },
  {
   "cell_type": "code",
   "execution_count": 49,
   "id": "11b570d3",
   "metadata": {},
   "outputs": [
    {
     "name": "stdout",
     "output_type": "stream",
     "text": [
      "3.141592653589793\n",
      "2.718281828459045\n"
     ]
    }
   ],
   "source": [
    "#to get pi & e value\n",
    "\n",
    "print(math.pi)\n",
    "print(math.e)"
   ]
  },
  {
   "cell_type": "code",
   "execution_count": 50,
   "id": "7715e51d",
   "metadata": {},
   "outputs": [
    {
     "data": {
      "text/plain": [
       "50.33885179461288"
      ]
     },
     "execution_count": 50,
     "metadata": {},
     "output_type": "execute_result"
    }
   ],
   "source": [
    "#to get square root of the number\n",
    "\n",
    "math.sqrt(2534)"
   ]
  },
  {
   "cell_type": "code",
   "execution_count": 51,
   "id": "6aa1ed5c",
   "metadata": {},
   "outputs": [
    {
     "data": {
      "text/plain": [
       "32.0"
      ]
     },
     "execution_count": 51,
     "metadata": {},
     "output_type": "execute_result"
    }
   ],
   "source": [
    "#power of the number\n",
    "\n",
    "math.pow(2, 5) #(number, power of that number)"
   ]
  },
  {
   "cell_type": "code",
   "execution_count": 52,
   "id": "361dbf39",
   "metadata": {},
   "outputs": [
    {
     "data": {
      "text/plain": [
       "-224"
      ]
     },
     "execution_count": 52,
     "metadata": {},
     "output_type": "execute_result"
    }
   ],
   "source": [
    "#to get sum of the numbers \n",
    "\n",
    "sum((23, -12, -235)) #numbers for sum"
   ]
  },
  {
   "cell_type": "code",
   "execution_count": 53,
   "id": "c5ea84a8",
   "metadata": {},
   "outputs": [
    {
     "name": "stdout",
     "output_type": "stream",
     "text": [
      "52.65\n",
      "-89\n"
     ]
    }
   ],
   "source": [
    "#to find max-min from the numbers\n",
    "\n",
    "print(max((1, 4, 52.65, -12, -89))) #the numbers we want max-min\n",
    "print(min((1, 4, 52, -12, -89)))"
   ]
  },
  {
   "cell_type": "markdown",
   "id": "a7def036",
   "metadata": {},
   "source": [
    "### *To get some fun with numbers*"
   ]
  },
  {
   "cell_type": "code",
   "execution_count": 54,
   "id": "caba9742",
   "metadata": {},
   "outputs": [],
   "source": [
    "#to generate random numbers by import random library\n",
    "\n",
    "import random"
   ]
  },
  {
   "cell_type": "code",
   "execution_count": 55,
   "id": "5b06c51c",
   "metadata": {},
   "outputs": [
    {
     "data": {
      "text/plain": [
       "0.9352751746673991"
      ]
     },
     "execution_count": 55,
     "metadata": {},
     "output_type": "execute_result"
    }
   ],
   "source": [
    "#to get any random number\n",
    "random.random()"
   ]
  },
  {
   "cell_type": "code",
   "execution_count": 56,
   "id": "0ba84cc4",
   "metadata": {},
   "outputs": [
    {
     "data": {
      "text/plain": [
       "5"
      ]
     },
     "execution_count": 56,
     "metadata": {},
     "output_type": "execute_result"
    }
   ],
   "source": [
    "#to get any random number between two integer\n",
    "\n",
    "random.randint(2, 5) #the number between two numbers"
   ]
  },
  {
   "cell_type": "markdown",
   "id": "ea7ade9a",
   "metadata": {},
   "source": [
    "### *String Data Types*"
   ]
  },
  {
   "cell_type": "markdown",
   "id": "c1ef2c53",
   "metadata": {},
   "source": [
    "#### Words or numbers written in string format"
   ]
  },
  {
   "cell_type": "code",
   "execution_count": 57,
   "id": "aeba41f8",
   "metadata": {},
   "outputs": [
    {
     "data": {
      "text/plain": [
       "'Hello bro !'"
      ]
     },
     "execution_count": 57,
     "metadata": {},
     "output_type": "execute_result"
    }
   ],
   "source": [
    "#can be written in single quotes or double quotes \" \"\n",
    "\n",
    "\"Hello bro !\""
   ]
  },
  {
   "cell_type": "code",
   "execution_count": 58,
   "id": "a27c1c10",
   "metadata": {},
   "outputs": [
    {
     "data": {
      "text/plain": [
       "'2'"
      ]
     },
     "execution_count": 58,
     "metadata": {},
     "output_type": "execute_result"
    }
   ],
   "source": [
    "#number in string\n",
    "'2'"
   ]
  },
  {
   "cell_type": "code",
   "execution_count": 59,
   "id": "36aedd18",
   "metadata": {},
   "outputs": [
    {
     "data": {
      "text/plain": [
       "'50 shades of Grey'"
      ]
     },
     "execution_count": 59,
     "metadata": {},
     "output_type": "execute_result"
    }
   ],
   "source": [
    "#in single quotes\n",
    "'50 shades of Grey'"
   ]
  },
  {
   "cell_type": "code",
   "execution_count": 60,
   "id": "ea5c0279",
   "metadata": {},
   "outputs": [
    {
     "name": "stdout",
     "output_type": "stream",
     "text": [
      "I am Python, Ayush's guide\n"
     ]
    }
   ],
   "source": [
    "#to use both in the same, single quotes along with double quotes can be used\n",
    "\n",
    "print(\"I am Python, Ayush's guide\")"
   ]
  },
  {
   "cell_type": "code",
   "execution_count": 61,
   "id": "71e9e7b7",
   "metadata": {},
   "outputs": [],
   "source": [
    "myth = \"Meaning 'of' the life\""
   ]
  },
  {
   "cell_type": "code",
   "execution_count": 62,
   "id": "46260405",
   "metadata": {},
   "outputs": [
    {
     "data": {
      "text/plain": [
       "\"Meaning 'of' the life\""
      ]
     },
     "execution_count": 62,
     "metadata": {},
     "output_type": "execute_result"
    }
   ],
   "source": [
    "myth"
   ]
  },
  {
   "cell_type": "markdown",
   "id": "f8efc868",
   "metadata": {},
   "source": [
    "#### String operations"
   ]
  },
  {
   "cell_type": "code",
   "execution_count": 63,
   "id": "d2aa70a2",
   "metadata": {},
   "outputs": [
    {
     "data": {
      "text/plain": [
       "21"
      ]
     },
     "execution_count": 63,
     "metadata": {},
     "output_type": "execute_result"
    }
   ],
   "source": [
    "#to find the length of string\n",
    "\n",
    "len(myth)"
   ]
  },
  {
   "cell_type": "code",
   "execution_count": 64,
   "id": "bdfa45dd",
   "metadata": {},
   "outputs": [
    {
     "data": {
      "text/plain": [
       "'21847450052839212624230656502990235142567050104912751880812823948662932355201'"
      ]
     },
     "execution_count": 64,
     "metadata": {},
     "output_type": "execute_result"
    }
   ],
   "source": [
    "str(243**32)"
   ]
  },
  {
   "cell_type": "code",
   "execution_count": 65,
   "id": "00615117",
   "metadata": {},
   "outputs": [
    {
     "data": {
      "text/plain": [
       "77"
      ]
     },
     "execution_count": 65,
     "metadata": {},
     "output_type": "execute_result"
    }
   ],
   "source": [
    "#to find length of number using string\n",
    "len(str(243**32))"
   ]
  },
  {
   "cell_type": "code",
   "execution_count": 66,
   "id": "2001da2d",
   "metadata": {},
   "outputs": [
    {
     "data": {
      "text/plain": [
       "'\\nHey there ! This is multiline string used for writing the multiple sentence in the line\\n'"
      ]
     },
     "execution_count": 66,
     "metadata": {},
     "output_type": "execute_result"
    }
   ],
   "source": [
    "#Multiline string --> It can be used with 3 Triple quotes\n",
    "\n",
    "\"\"\"\n",
    "Hey there ! This is multiline string used for writing the multiple sentence in the line\n",
    "\"\"\""
   ]
  },
  {
   "cell_type": "code",
   "execution_count": 67,
   "id": "99bdcebf",
   "metadata": {},
   "outputs": [
    {
     "name": "stdout",
     "output_type": "stream",
     "text": [
      "I have have many libraries like \n",
      " Pandas \n",
      " Numpy \n",
      " Matplotlib, etc.\n"
     ]
    }
   ],
   "source": [
    "#For sentence in new line --> use \\n in the new line\n",
    "\n",
    "print(\"I have have many libraries like \\n Pandas \\n Numpy \\n Matplotlib, etc.\")"
   ]
  },
  {
   "cell_type": "code",
   "execution_count": 68,
   "id": "fc908123",
   "metadata": {},
   "outputs": [
    {
     "data": {
      "text/plain": [
       "'am very much love in Python'"
      ]
     },
     "execution_count": 68,
     "metadata": {},
     "output_type": "execute_result"
    }
   ],
   "source": [
    "#to get the specific part of the code ---> slicing [start:stop:ilterator]\n",
    "\n",
    "python = \"I am very much love in Python\"\n",
    "\n",
    "python[2:35]"
   ]
  },
  {
   "cell_type": "code",
   "execution_count": 69,
   "id": "fa0f5e7f",
   "metadata": {},
   "outputs": [
    {
     "data": {
      "text/plain": [
       "'nohtyP ni evol hcum yrev m'"
      ]
     },
     "execution_count": 69,
     "metadata": {},
     "output_type": "execute_result"
    }
   ],
   "source": [
    "#reverse slicing \n",
    "\n",
    "python[:2:-1]"
   ]
  },
  {
   "cell_type": "code",
   "execution_count": 70,
   "id": "f549f5dc",
   "metadata": {},
   "outputs": [
    {
     "data": {
      "text/plain": [
       "'hello Ayush'"
      ]
     },
     "execution_count": 70,
     "metadata": {},
     "output_type": "execute_result"
    }
   ],
   "source": [
    "#concatanating string\n",
    "\n",
    "a = \"hello\"\n",
    "b = \" Ayush\"\n",
    "\n",
    "a+b"
   ]
  },
  {
   "cell_type": "code",
   "execution_count": 71,
   "id": "ad220b1f",
   "metadata": {},
   "outputs": [
    {
     "data": {
      "text/plain": [
       "'l'"
      ]
     },
     "execution_count": 71,
     "metadata": {},
     "output_type": "execute_result"
    }
   ],
   "source": [
    "a[2]"
   ]
  },
  {
   "cell_type": "code",
   "execution_count": 72,
   "id": "c6e69fad",
   "metadata": {},
   "outputs": [
    {
     "data": {
      "text/plain": [
       "'hellohellohellohellohellohellohellohellohellohello'"
      ]
     },
     "execution_count": 72,
     "metadata": {},
     "output_type": "execute_result"
    }
   ],
   "source": [
    "#printing multiple line\n",
    "\n",
    "a*10"
   ]
  },
  {
   "cell_type": "code",
   "execution_count": 73,
   "id": "d6a2d1a4",
   "metadata": {},
   "outputs": [
    {
     "data": {
      "text/plain": [
       "'hello'"
      ]
     },
     "execution_count": 73,
     "metadata": {},
     "output_type": "execute_result"
    }
   ],
   "source": [
    "a[:10]"
   ]
  },
  {
   "cell_type": "code",
   "execution_count": 74,
   "id": "ebdbc04a",
   "metadata": {},
   "outputs": [
    {
     "data": {
      "text/plain": [
       "'HELLO'"
      ]
     },
     "execution_count": 74,
     "metadata": {},
     "output_type": "execute_result"
    }
   ],
   "source": [
    "#to convert string into upper\n",
    "\n",
    "a.upper()"
   ]
  },
  {
   "cell_type": "code",
   "execution_count": 75,
   "id": "e5638d16",
   "metadata": {},
   "outputs": [
    {
     "data": {
      "text/plain": [
       "' ayush'"
      ]
     },
     "execution_count": 75,
     "metadata": {},
     "output_type": "execute_result"
    }
   ],
   "source": [
    "#to convert all string into lower\n",
    "\n",
    "b.lower()"
   ]
  },
  {
   "cell_type": "code",
   "execution_count": 76,
   "id": "9188951f",
   "metadata": {},
   "outputs": [
    {
     "data": {
      "text/plain": [
       "'hey'"
      ]
     },
     "execution_count": 76,
     "metadata": {},
     "output_type": "execute_result"
    }
   ],
   "source": [
    "#to replace into string\n",
    "\n",
    "a.replace(\"hello\", \"hey\")"
   ]
  },
  {
   "cell_type": "code",
   "execution_count": 77,
   "id": "619989a9",
   "metadata": {},
   "outputs": [
    {
     "name": "stdout",
     "output_type": "stream",
     "text": [
      "Value of a is 25\n"
     ]
    }
   ],
   "source": [
    "#string formating -----> to insert value of any define value\n",
    "\n",
    "a = 25 \n",
    "\n",
    "b = print(f\"Value of a is {a}\") #string formating-1"
   ]
  },
  {
   "cell_type": "code",
   "execution_count": 78,
   "id": "cfc11824",
   "metadata": {},
   "outputs": [
    {
     "name": "stdout",
     "output_type": "stream",
     "text": [
      "Value of a is 25\n"
     ]
    }
   ],
   "source": [
    "b = print(\"Value of a is\", a) #string formating - 2"
   ]
  },
  {
   "cell_type": "code",
   "execution_count": 79,
   "id": "3a3b0abb",
   "metadata": {},
   "outputs": [
    {
     "name": "stdout",
     "output_type": "stream",
     "text": [
      "Value of a is 25\n"
     ]
    }
   ],
   "source": [
    "b = print(\"Value of a is {}\".format(a)) #string formating - 3"
   ]
  },
  {
   "cell_type": "code",
   "execution_count": 80,
   "id": "9c5a1c5c",
   "metadata": {},
   "outputs": [
    {
     "data": {
      "text/plain": [
       "True"
      ]
     },
     "execution_count": 80,
     "metadata": {},
     "output_type": "execute_result"
    }
   ],
   "source": [
    "#to check wether that value exist in string or not\n",
    "\n",
    "a = \"It was a great adventure !\"\n",
    "\n",
    "b = \"It\" in a\n",
    "b"
   ]
  },
  {
   "cell_type": "markdown",
   "id": "c7e3bd3b",
   "metadata": {},
   "source": [
    "### *Boolean Data Types*"
   ]
  },
  {
   "cell_type": "markdown",
   "id": "2ba01171",
   "metadata": {},
   "source": [
    "#### \"True\" (or 1)  if comparison is correct else \"False\" (or 0) if comparison is false"
   ]
  },
  {
   "cell_type": "code",
   "execution_count": 81,
   "id": "b947f043",
   "metadata": {},
   "outputs": [],
   "source": [
    "#Eg. --> they are given as \"bool\"\n",
    "\n",
    "a = True\n",
    "b = False"
   ]
  },
  {
   "cell_type": "code",
   "execution_count": 82,
   "id": "74d2ac6a",
   "metadata": {},
   "outputs": [
    {
     "name": "stdout",
     "output_type": "stream",
     "text": [
      "<class 'bool'>\n",
      "<class 'bool'>\n"
     ]
    }
   ],
   "source": [
    "print(type(a))\n",
    "print(type(b))"
   ]
  },
  {
   "cell_type": "code",
   "execution_count": 83,
   "id": "7b3bcd38",
   "metadata": {},
   "outputs": [
    {
     "name": "stdout",
     "output_type": "stream",
     "text": [
      "1\n",
      "0\n"
     ]
    }
   ],
   "source": [
    "#value of True & False\n",
    "\n",
    "print(int(a))\n",
    "print(int(b))"
   ]
  },
  {
   "cell_type": "code",
   "execution_count": 84,
   "id": "6a96d102",
   "metadata": {},
   "outputs": [
    {
     "data": {
      "text/plain": [
       "True"
      ]
     },
     "execution_count": 84,
     "metadata": {},
     "output_type": "execute_result"
    }
   ],
   "source": [
    "#usage of boolean\n",
    "\n",
    "a > b"
   ]
  },
  {
   "cell_type": "code",
   "execution_count": 85,
   "id": "a51c5123",
   "metadata": {},
   "outputs": [
    {
     "data": {
      "text/plain": [
       "True"
      ]
     },
     "execution_count": 85,
     "metadata": {},
     "output_type": "execute_result"
    }
   ],
   "source": [
    "#To check or or and operator \n",
    "\n",
    "a or b"
   ]
  },
  {
   "cell_type": "code",
   "execution_count": 86,
   "id": "c60c1d7b",
   "metadata": {},
   "outputs": [
    {
     "data": {
      "text/plain": [
       "False"
      ]
     },
     "execution_count": 86,
     "metadata": {},
     "output_type": "execute_result"
    }
   ],
   "source": [
    "#checking with its own\n",
    "True and False"
   ]
  },
  {
   "cell_type": "code",
   "execution_count": 87,
   "id": "551f99f8",
   "metadata": {},
   "outputs": [
    {
     "name": "stdout",
     "output_type": "stream",
     "text": [
      "False\n",
      "True\n"
     ]
    }
   ],
   "source": [
    "#empty string are False, while non-empty string are True\n",
    "\n",
    "print(bool(\"\"))\n",
    "print(bool([1, 53]))"
   ]
  },
  {
   "cell_type": "markdown",
   "id": "b3cf8f27",
   "metadata": {},
   "source": [
    "### *Sets*"
   ]
  },
  {
   "cell_type": "markdown",
   "id": "8597ea82",
   "metadata": {},
   "source": [
    "#### An unordered collection of unique & imutable objects"
   ]
  },
  {
   "cell_type": "code",
   "execution_count": 88,
   "id": "53ecbd80",
   "metadata": {},
   "outputs": [
    {
     "data": {
      "text/plain": [
       "{14, 2.2, 'Hello', 'ayush'}"
      ]
     },
     "execution_count": 88,
     "metadata": {},
     "output_type": "execute_result"
    }
   ],
   "source": [
    "#sets are written in \"{}\".\n",
    "\n",
    "{\"Hello\", \"ayush\", 14, 2.2}"
   ]
  },
  {
   "cell_type": "code",
   "execution_count": 89,
   "id": "12480028",
   "metadata": {},
   "outputs": [],
   "source": [
    "#it can be define by assining variabl\n",
    "\n",
    "a = set(\"ehl\")"
   ]
  },
  {
   "cell_type": "code",
   "execution_count": 90,
   "id": "6322c4c7",
   "metadata": {},
   "outputs": [
    {
     "data": {
      "text/plain": [
       "set"
      ]
     },
     "execution_count": 90,
     "metadata": {},
     "output_type": "execute_result"
    }
   ],
   "source": [
    "type(a)"
   ]
  },
  {
   "cell_type": "code",
   "execution_count": 91,
   "id": "9679c733",
   "metadata": {},
   "outputs": [
    {
     "data": {
      "text/plain": [
       "{'e', 'h', 'l'}"
      ]
     },
     "execution_count": 91,
     "metadata": {},
     "output_type": "execute_result"
    }
   ],
   "source": [
    "a"
   ]
  },
  {
   "cell_type": "code",
   "execution_count": 92,
   "id": "fc3f145d",
   "metadata": {},
   "outputs": [],
   "source": [
    "#to add value in set\n",
    "\n",
    "a.add(\"It is\")"
   ]
  },
  {
   "cell_type": "code",
   "execution_count": 93,
   "id": "ba0b7f7d",
   "metadata": {},
   "outputs": [
    {
     "data": {
      "text/plain": [
       "{'It is', 'e', 'h', 'l'}"
      ]
     },
     "execution_count": 93,
     "metadata": {},
     "output_type": "execute_result"
    }
   ],
   "source": [
    "a"
   ]
  },
  {
   "cell_type": "code",
   "execution_count": 94,
   "id": "93d62177",
   "metadata": {},
   "outputs": [
    {
     "data": {
      "text/plain": [
       "{'It is', 'h', 'l'}"
      ]
     },
     "execution_count": 94,
     "metadata": {},
     "output_type": "execute_result"
    }
   ],
   "source": [
    "#to delete any element in the set\n",
    "a.remove(\"e\")\n",
    "a"
   ]
  },
  {
   "cell_type": "code",
   "execution_count": 95,
   "id": "32588bc9",
   "metadata": {},
   "outputs": [
    {
     "name": "stdout",
     "output_type": "stream",
     "text": [
      "False\n"
     ]
    }
   ],
   "source": [
    "#to check if any set is subset of other\n",
    "\n",
    "b = {\"h\", \"l\"}\n",
    "\n",
    "print(b in a)"
   ]
  },
  {
   "cell_type": "code",
   "execution_count": 96,
   "id": "66372f8b",
   "metadata": {},
   "outputs": [
    {
     "data": {
      "text/plain": [
       "True"
      ]
     },
     "execution_count": 96,
     "metadata": {},
     "output_type": "execute_result"
    }
   ],
   "source": [
    "#to compare sets elements\n",
    "\n",
    "a > b"
   ]
  },
  {
   "cell_type": "code",
   "execution_count": 97,
   "id": "8c9394ce",
   "metadata": {},
   "outputs": [],
   "source": [
    "#if same element is added set value doesn't change (as it is unique order)\n",
    "\n",
    "x = {2, -253, True, False}\n",
    "y = {2j - 19, \"I\", \"am\"}\n"
   ]
  },
  {
   "cell_type": "code",
   "execution_count": 98,
   "id": "f5e9ff0f",
   "metadata": {},
   "outputs": [],
   "source": [
    "x.add(2)"
   ]
  },
  {
   "cell_type": "code",
   "execution_count": 99,
   "id": "c61388ac",
   "metadata": {},
   "outputs": [
    {
     "data": {
      "text/plain": [
       "{-253, False, True, 2}"
      ]
     },
     "execution_count": 99,
     "metadata": {},
     "output_type": "execute_result"
    }
   ],
   "source": [
    "x #it doesn't change"
   ]
  },
  {
   "cell_type": "markdown",
   "id": "b00c5901",
   "metadata": {},
   "source": [
    "### *Lists*"
   ]
  },
  {
   "cell_type": "markdown",
   "id": "bd4f9517",
   "metadata": {},
   "source": [
    "#### Flexible object collection of object\n",
    "#### Can cotain any type of data "
   ]
  },
  {
   "cell_type": "code",
   "execution_count": 100,
   "id": "629a426c",
   "metadata": {},
   "outputs": [],
   "source": [
    "# They are define in \"[]\" brackets\n",
    "\n",
    "a = [2, True, {1, 2, 3}]"
   ]
  },
  {
   "cell_type": "code",
   "execution_count": 101,
   "id": "8c060fde",
   "metadata": {},
   "outputs": [
    {
     "data": {
      "text/plain": [
       "list"
      ]
     },
     "execution_count": 101,
     "metadata": {},
     "output_type": "execute_result"
    }
   ],
   "source": [
    "type(a)"
   ]
  },
  {
   "cell_type": "code",
   "execution_count": 102,
   "id": "5f59a555",
   "metadata": {},
   "outputs": [],
   "source": [
    "#it can contain set/list inside list \n",
    "\n",
    "b = [[\"Biryani\", \"Manchurian\", \"Idli\"], [\"Hyderabad\", \"Delhi\"], {2, 5, 9}, 2j]"
   ]
  },
  {
   "cell_type": "code",
   "execution_count": 103,
   "id": "da524d45",
   "metadata": {},
   "outputs": [
    {
     "data": {
      "text/plain": [
       "[['Biryani', 'Manchurian', 'Idli'], ['Hyderabad', 'Delhi'], {2, 5, 9}, 2j]"
      ]
     },
     "execution_count": 103,
     "metadata": {},
     "output_type": "execute_result"
    }
   ],
   "source": [
    "b"
   ]
  },
  {
   "cell_type": "code",
   "execution_count": 104,
   "id": "4af98ff7",
   "metadata": {},
   "outputs": [
    {
     "data": {
      "text/plain": [
       "4"
      ]
     },
     "execution_count": 104,
     "metadata": {},
     "output_type": "execute_result"
    }
   ],
   "source": [
    "#to check length of list or number of items in list\n",
    "\n",
    "len(b)"
   ]
  },
  {
   "cell_type": "code",
   "execution_count": 105,
   "id": "e3fb7051",
   "metadata": {},
   "outputs": [
    {
     "data": {
      "text/plain": [
       "['Biryani', 'Manchurian', 'Idli']"
      ]
     },
     "execution_count": 105,
     "metadata": {},
     "output_type": "execute_result"
    }
   ],
   "source": [
    "#to check elment/slice element of particular index \n",
    "b[0]"
   ]
  },
  {
   "cell_type": "code",
   "execution_count": 106,
   "id": "e31bbb6c",
   "metadata": {},
   "outputs": [
    {
     "data": {
      "text/plain": [
       "{2, 5, 9}"
      ]
     },
     "execution_count": 106,
     "metadata": {},
     "output_type": "execute_result"
    }
   ],
   "source": [
    "b[2]"
   ]
  },
  {
   "cell_type": "code",
   "execution_count": 107,
   "id": "6704646a",
   "metadata": {},
   "outputs": [
    {
     "data": {
      "text/plain": [
       "[['Hyderabad', 'Delhi'], {2, 5, 9}, 2j]"
      ]
     },
     "execution_count": 107,
     "metadata": {},
     "output_type": "execute_result"
    }
   ],
   "source": [
    "b[1:4]"
   ]
  },
  {
   "cell_type": "code",
   "execution_count": 108,
   "id": "bf4e527f",
   "metadata": {},
   "outputs": [
    {
     "data": {
      "text/plain": [
       "[['Biryani', 'Manchurian', 'Idli'], ['Hyderabad', 'Delhi'], {2, 5, 9}]"
      ]
     },
     "execution_count": 108,
     "metadata": {},
     "output_type": "execute_result"
    }
   ],
   "source": [
    "#to get reverse order [Negative Slicing]\n",
    "\n",
    "b[:-1]"
   ]
  },
  {
   "cell_type": "code",
   "execution_count": 109,
   "id": "dc124bbb",
   "metadata": {},
   "outputs": [
    {
     "data": {
      "text/plain": [
       "[['Biryani', 'Manchurian', 'Idli'], ['Hyderabad', 'Delhi'], {2, 5, 9}, 2j]"
      ]
     },
     "execution_count": 109,
     "metadata": {},
     "output_type": "execute_result"
    }
   ],
   "source": [
    "b[-4:]"
   ]
  },
  {
   "cell_type": "code",
   "execution_count": 110,
   "id": "1db214bd",
   "metadata": {},
   "outputs": [
    {
     "data": {
      "text/plain": [
       "[2j, {2, 5, 9}, ['Hyderabad', 'Delhi'], ['Biryani', 'Manchurian', 'Idli']]"
      ]
     },
     "execution_count": 110,
     "metadata": {},
     "output_type": "execute_result"
    }
   ],
   "source": [
    "b[::-1]"
   ]
  },
  {
   "cell_type": "code",
   "execution_count": 111,
   "id": "5afa93ec",
   "metadata": {},
   "outputs": [
    {
     "data": {
      "text/plain": [
       "[2,\n",
       " True,\n",
       " {1, 2, 3},\n",
       " ['Biryani', 'Manchurian', 'Idli'],\n",
       " ['Hyderabad', 'Delhi'],\n",
       " {2, 5, 9},\n",
       " 2j]"
      ]
     },
     "execution_count": 111,
     "metadata": {},
     "output_type": "execute_result"
    }
   ],
   "source": [
    "#2 or more list can be added together\n",
    "\n",
    "c = a + b\n",
    "c"
   ]
  },
  {
   "cell_type": "code",
   "execution_count": 112,
   "id": "acefcd3e",
   "metadata": {},
   "outputs": [
    {
     "data": {
      "text/plain": [
       "[2,\n",
       " True,\n",
       " {1, 2, 3},\n",
       " ['Biryani', 'Manchurian', 'Idli'],\n",
       " ['Hyderabad', 'Delhi'],\n",
       " {2, 5, 9},\n",
       " 2j,\n",
       " 2,\n",
       " True,\n",
       " {1, 2, 3},\n",
       " ['Biryani', 'Manchurian', 'Idli'],\n",
       " ['Hyderabad', 'Delhi'],\n",
       " {2, 5, 9},\n",
       " 2j]"
      ]
     },
     "execution_count": 112,
     "metadata": {},
     "output_type": "execute_result"
    }
   ],
   "source": [
    "#to get repetative number of elemnts\n",
    "\n",
    "c*2"
   ]
  },
  {
   "cell_type": "code",
   "execution_count": 113,
   "id": "9a0facc2",
   "metadata": {},
   "outputs": [
    {
     "data": {
      "text/plain": [
       "[2, True, {1, 2, 3}, ['Telangana', 'Gujarat']]"
      ]
     },
     "execution_count": 113,
     "metadata": {},
     "output_type": "execute_result"
    }
   ],
   "source": [
    "#to add element in the list \n",
    "\n",
    "a.append([\"Telangana\", \"Gujarat\"])\n",
    "a"
   ]
  },
  {
   "cell_type": "code",
   "execution_count": 114,
   "id": "d64327f3",
   "metadata": {},
   "outputs": [
    {
     "data": {
      "text/plain": [
       "[True, {1, 2, 3}, ['Telangana', 'Gujarat']]"
      ]
     },
     "execution_count": 114,
     "metadata": {},
     "output_type": "execute_result"
    }
   ],
   "source": [
    "#to remove specific element from the list\n",
    "\n",
    "a.remove(2)\n",
    "a"
   ]
  },
  {
   "cell_type": "code",
   "execution_count": 115,
   "id": "7d0a006a",
   "metadata": {},
   "outputs": [
    {
     "data": {
      "text/plain": [
       "['Telangana', 'Gujarat']"
      ]
     },
     "execution_count": 115,
     "metadata": {},
     "output_type": "execute_result"
    }
   ],
   "source": [
    "#to remove last elemnt from the list\n",
    "\n",
    "a.pop()"
   ]
  },
  {
   "cell_type": "code",
   "execution_count": 116,
   "id": "179834d8",
   "metadata": {},
   "outputs": [],
   "source": [
    "#to create a copy of list for any further use\n",
    "\n",
    "x = a.copy()"
   ]
  },
  {
   "cell_type": "code",
   "execution_count": 117,
   "id": "1249cb30",
   "metadata": {},
   "outputs": [
    {
     "data": {
      "text/plain": [
       "[True, {1, 2, 3}]"
      ]
     },
     "execution_count": 117,
     "metadata": {},
     "output_type": "execute_result"
    }
   ],
   "source": [
    "x"
   ]
  },
  {
   "cell_type": "code",
   "execution_count": 118,
   "id": "1ef71da1",
   "metadata": {},
   "outputs": [
    {
     "data": {
      "text/plain": [
       "[True, 'Movies']"
      ]
     },
     "execution_count": 118,
     "metadata": {},
     "output_type": "execute_result"
    }
   ],
   "source": [
    "#to edit the particular index\n",
    "\n",
    "a[1] = \"Movies\"\n",
    "a"
   ]
  },
  {
   "cell_type": "code",
   "execution_count": 119,
   "id": "8d57309e",
   "metadata": {},
   "outputs": [
    {
     "data": {
      "text/plain": [
       "['Movies', True]"
      ]
     },
     "execution_count": 119,
     "metadata": {},
     "output_type": "execute_result"
    }
   ],
   "source": [
    "#to reversed the element in the list\n",
    "\n",
    "a.reverse()\n",
    "a"
   ]
  },
  {
   "cell_type": "markdown",
   "id": "c80de03d",
   "metadata": {},
   "source": [
    "### **Dictionaries**"
   ]
  },
  {
   "cell_type": "markdown",
   "id": "7ed04efb",
   "metadata": {},
   "source": [
    "#### Ordered collection refer through its key and its value pair"
   ]
  },
  {
   "cell_type": "code",
   "execution_count": 120,
   "id": "e1b08d5e",
   "metadata": {},
   "outputs": [],
   "source": [
    "# they are assign in {} with the its key & value pair\n",
    "#empty set are also the dictionary \n",
    "\n",
    "a = {}"
   ]
  },
  {
   "cell_type": "code",
   "execution_count": 121,
   "id": "62c7f3f4",
   "metadata": {},
   "outputs": [
    {
     "data": {
      "text/plain": [
       "dict"
      ]
     },
     "execution_count": 121,
     "metadata": {},
     "output_type": "execute_result"
    }
   ],
   "source": [
    "type(a)"
   ]
  },
  {
   "cell_type": "code",
   "execution_count": 122,
   "id": "bd5cc246",
   "metadata": {},
   "outputs": [],
   "source": [
    "#defining dictonaries \n",
    "\n",
    "dir1 = {\"Books\": \"Comics\", \"Movies\" : \"Romantic\"}"
   ]
  },
  {
   "cell_type": "code",
   "execution_count": 123,
   "id": "f8873c81",
   "metadata": {},
   "outputs": [],
   "source": [
    "#it can have list inside list, number variable, dictonaries inside dictonaries etc.\n",
    "\n",
    "dir2 = {\"Books\":[\"Mahabharat\", \"Gita\", \"Ramayan\"], \"Years\":[15, 30, 20], \"Publisher\":[True, False, True]}"
   ]
  },
  {
   "cell_type": "code",
   "execution_count": 124,
   "id": "9fcb5ad8",
   "metadata": {},
   "outputs": [
    {
     "name": "stdout",
     "output_type": "stream",
     "text": [
      "{'Books': ['Mahabharat', 'Gita', 'Ramayan'], 'Years': [15, 30, 20], 'Publisher': [True, False, True]}\n"
     ]
    }
   ],
   "source": [
    "print(dir2)"
   ]
  },
  {
   "cell_type": "code",
   "execution_count": 125,
   "id": "b1ae7517",
   "metadata": {},
   "outputs": [
    {
     "data": {
      "text/plain": [
       "[True, False, True]"
      ]
     },
     "execution_count": 125,
     "metadata": {},
     "output_type": "execute_result"
    }
   ],
   "source": [
    "#to get its value pair in dict --> it is defined by the asking its key, order doesn't matter \n",
    "dir2[\"Publisher\"]"
   ]
  },
  {
   "cell_type": "code",
   "execution_count": 126,
   "id": "951f6a09",
   "metadata": {},
   "outputs": [
    {
     "data": {
      "text/plain": [
       "3"
      ]
     },
     "execution_count": 126,
     "metadata": {},
     "output_type": "execute_result"
    }
   ],
   "source": [
    "#to find the number of elements in the dict\n",
    "len(dir2)"
   ]
  },
  {
   "cell_type": "code",
   "execution_count": 127,
   "id": "c4713e9a",
   "metadata": {},
   "outputs": [],
   "source": [
    "#to edit the element\n",
    "\n",
    "dir2[\"Publisher\"] = [True, False, False]"
   ]
  },
  {
   "cell_type": "code",
   "execution_count": 128,
   "id": "5b0ae645",
   "metadata": {},
   "outputs": [
    {
     "data": {
      "text/plain": [
       "{'Books': ['Mahabharat', 'Gita', 'Ramayan'],\n",
       " 'Years': [15, 30, 20],\n",
       " 'Publisher': [True, False, False]}"
      ]
     },
     "execution_count": 128,
     "metadata": {},
     "output_type": "execute_result"
    }
   ],
   "source": [
    "dir2"
   ]
  },
  {
   "cell_type": "code",
   "execution_count": 129,
   "id": "52710fb9",
   "metadata": {},
   "outputs": [],
   "source": [
    "#to add any element in the dict\n",
    "\n",
    "dir2[\"Writer\"] = {\"Old\" : {\"shiva\", \"rani\"}, \"New\" : {\"pari\", \"rehan\"}}"
   ]
  },
  {
   "cell_type": "code",
   "execution_count": 130,
   "id": "036aa111",
   "metadata": {},
   "outputs": [
    {
     "name": "stdout",
     "output_type": "stream",
     "text": [
      "{'Books': ['Mahabharat', 'Gita', 'Ramayan'], 'Years': [15, 30, 20], 'Publisher': [True, False, False], 'Writer': {'Old': {'shiva', 'rani'}, 'New': {'rehan', 'pari'}}}\n"
     ]
    }
   ],
   "source": [
    "print(dir2)"
   ]
  },
  {
   "cell_type": "markdown",
   "id": "1937156f",
   "metadata": {},
   "source": [
    "#### *Dictionaries Method*"
   ]
  },
  {
   "cell_type": "code",
   "execution_count": 131,
   "id": "12ab13d3",
   "metadata": {},
   "outputs": [
    {
     "data": {
      "text/plain": [
       "{'Old': {'rani', 'shiva'}, 'New': {'pari', 'rehan'}}"
      ]
     },
     "execution_count": 131,
     "metadata": {},
     "output_type": "execute_result"
    }
   ],
   "source": [
    "#to get the value of any pair\n",
    "\n",
    "dir2[\"Writer\"]"
   ]
  },
  {
   "cell_type": "code",
   "execution_count": 132,
   "id": "65072463",
   "metadata": {},
   "outputs": [
    {
     "data": {
      "text/plain": [
       "dict_items([('Books', ['Mahabharat', 'Gita', 'Ramayan']), ('Years', [15, 30, 20]), ('Publisher', [True, False, False]), ('Writer', {'Old': {'shiva', 'rani'}, 'New': {'rehan', 'pari'}})])"
      ]
     },
     "execution_count": 132,
     "metadata": {},
     "output_type": "execute_result"
    }
   ],
   "source": [
    "#if we want items \n",
    "\n",
    "dir2.items()"
   ]
  },
  {
   "cell_type": "code",
   "execution_count": 133,
   "id": "59dd7a09",
   "metadata": {},
   "outputs": [
    {
     "data": {
      "text/plain": [
       "dict_keys(['Books', 'Years', 'Publisher', 'Writer'])"
      ]
     },
     "execution_count": 133,
     "metadata": {},
     "output_type": "execute_result"
    }
   ],
   "source": [
    "#if we want keys\n",
    "\n",
    "dir2.keys()"
   ]
  },
  {
   "cell_type": "code",
   "execution_count": 134,
   "id": "14f0a592",
   "metadata": {},
   "outputs": [],
   "source": [
    "#to nest list inside dict\n",
    "\n",
    "dir2[\"New\"] = (1, 2, 3)"
   ]
  },
  {
   "cell_type": "code",
   "execution_count": 135,
   "id": "63a0d58c",
   "metadata": {},
   "outputs": [
    {
     "data": {
      "text/plain": [
       "{'Books': ['Mahabharat', 'Gita', 'Ramayan'],\n",
       " 'Years': [15, 30, 20],\n",
       " 'Publisher': [True, False, False],\n",
       " 'Writer': {'Old': {'rani', 'shiva'}, 'New': {'pari', 'rehan'}},\n",
       " 'New': (1, 2, 3)}"
      ]
     },
     "execution_count": 135,
     "metadata": {},
     "output_type": "execute_result"
    }
   ],
   "source": [
    "dir2"
   ]
  },
  {
   "cell_type": "code",
   "execution_count": 136,
   "id": "3cec1b1e",
   "metadata": {},
   "outputs": [
    {
     "data": {
      "text/plain": [
       "{'rani', 'shiva'}"
      ]
     },
     "execution_count": 136,
     "metadata": {},
     "output_type": "execute_result"
    }
   ],
   "source": [
    "#to get item in list/ or slice the element\n",
    "\n",
    "dir2[\"Writer\"][\"Old\"]"
   ]
  },
  {
   "cell_type": "markdown",
   "id": "b81687e2",
   "metadata": {},
   "source": [
    "### **Tuples**"
   ]
  },
  {
   "cell_type": "markdown",
   "id": "c4b6f7eb",
   "metadata": {},
   "source": [
    "#### simple collection of objects "
   ]
  },
  {
   "cell_type": "code",
   "execution_count": 137,
   "id": "6e7e44bb",
   "metadata": {},
   "outputs": [],
   "source": [
    "#they are assign by () \n",
    "#an empty tuple is given by ()\n",
    "\n",
    "t = ()"
   ]
  },
  {
   "cell_type": "code",
   "execution_count": 138,
   "id": "608a1f65",
   "metadata": {},
   "outputs": [
    {
     "data": {
      "text/plain": [
       "tuple"
      ]
     },
     "execution_count": 138,
     "metadata": {},
     "output_type": "execute_result"
    }
   ],
   "source": [
    "type(t)"
   ]
  },
  {
   "cell_type": "code",
   "execution_count": 139,
   "id": "630093cf",
   "metadata": {},
   "outputs": [],
   "source": [
    "t1 = (\"Hello\", \"I\", {\"am\", 2}, (\"Tuple\"), {\"Dict\":1}, [\"Set\"])"
   ]
  },
  {
   "cell_type": "code",
   "execution_count": 140,
   "id": "fc72c044",
   "metadata": {},
   "outputs": [
    {
     "data": {
      "text/plain": [
       "tuple"
      ]
     },
     "execution_count": 140,
     "metadata": {},
     "output_type": "execute_result"
    }
   ],
   "source": [
    "type(t1)"
   ]
  },
  {
   "cell_type": "code",
   "execution_count": 141,
   "id": "e6b98e74",
   "metadata": {},
   "outputs": [
    {
     "data": {
      "text/plain": [
       "6"
      ]
     },
     "execution_count": 141,
     "metadata": {},
     "output_type": "execute_result"
    }
   ],
   "source": [
    "#to check length of tuple --? To check no. of elements\n",
    "len(t1)"
   ]
  },
  {
   "cell_type": "markdown",
   "id": "e9659f3b",
   "metadata": {},
   "source": [
    "#### Tuples are immutable ---> It can't be edited"
   ]
  },
  {
   "cell_type": "markdown",
   "id": "5c4c07ac",
   "metadata": {},
   "source": [
    "##### Tuple operations "
   ]
  },
  {
   "cell_type": "code",
   "execution_count": 142,
   "id": "842517f6",
   "metadata": {},
   "outputs": [
    {
     "name": "stdout",
     "output_type": "stream",
     "text": [
      "(1, 5, 2, 6)\n"
     ]
    }
   ],
   "source": [
    "#add two tuples\n",
    "\n",
    "a1 = (1, 5)\n",
    "a2 = (2, 6)\n",
    "\n",
    "a = a1 + a2\n",
    "print(a)"
   ]
  },
  {
   "cell_type": "code",
   "execution_count": 143,
   "id": "a990e4d5",
   "metadata": {},
   "outputs": [
    {
     "data": {
      "text/plain": [
       "(1, 5, 1, 5, 1, 5, 1, 5, 1, 5, 1, 5, 1, 5, 1, 5)"
      ]
     },
     "execution_count": 143,
     "metadata": {},
     "output_type": "execute_result"
    }
   ],
   "source": [
    "#to repeat elements \n",
    "\n",
    "a3 = a1*8\n",
    "a3"
   ]
  },
  {
   "cell_type": "code",
   "execution_count": 144,
   "id": "3d2ab64c",
   "metadata": {},
   "outputs": [
    {
     "data": {
      "text/plain": [
       "5"
      ]
     },
     "execution_count": 144,
     "metadata": {},
     "output_type": "execute_result"
    }
   ],
   "source": [
    "#slicing tuple ---> to know the element at position \n",
    "a3[9]"
   ]
  },
  {
   "cell_type": "code",
   "execution_count": 145,
   "id": "eaef6a69",
   "metadata": {},
   "outputs": [],
   "source": [
    "#to convert any data type into different type\n",
    "\n",
    "a1 = (\"Ayush\", \"My\", {\"Age\" : 22})\n",
    "a2 = [\"Python\", \"Machine Learning\", \"Deep Learning\"]\n",
    "a3 = {\"Web Scrapping\", 45}\n",
    "a4 = {\"Topics\": [\"ML\", \"DL\"], \"Python\":[\"Dict\", \"Tuple\", \"List\"]}"
   ]
  },
  {
   "cell_type": "code",
   "execution_count": 146,
   "id": "8b4e1390",
   "metadata": {},
   "outputs": [
    {
     "name": "stdout",
     "output_type": "stream",
     "text": [
      "<class 'tuple'>\n",
      "<class 'list'>\n",
      "<class 'set'>\n",
      "<class 'dict'>\n"
     ]
    }
   ],
   "source": [
    "print(type(a1))\n",
    "print(type(a2))\n",
    "print(type(a3))\n",
    "print(type(a4))"
   ]
  },
  {
   "cell_type": "code",
   "execution_count": 147,
   "id": "1f95285b",
   "metadata": {},
   "outputs": [
    {
     "name": "stdout",
     "output_type": "stream",
     "text": [
      "('Python', 'Machine Learning', 'Deep Learning')\n"
     ]
    }
   ],
   "source": [
    "a5 = tuple(a2)\n",
    "print(a5)"
   ]
  },
  {
   "cell_type": "code",
   "execution_count": 148,
   "id": "1b2e8880",
   "metadata": {},
   "outputs": [
    {
     "name": "stdout",
     "output_type": "stream",
     "text": [
      "{'Deep Learning', 'Python', 'Machine Learning'}\n"
     ]
    }
   ],
   "source": [
    "a6 = set(a2)\n",
    "print(a6)"
   ]
  },
  {
   "cell_type": "markdown",
   "id": "a91baa26",
   "metadata": {},
   "source": [
    "## 5.) Files openings & reading"
   ]
  },
  {
   "cell_type": "markdown",
   "id": "4c3f4d06",
   "metadata": {},
   "source": [
    "#### To open/ read / edit any types of files"
   ]
  },
  {
   "cell_type": "markdown",
   "id": "519eb5e6",
   "metadata": {},
   "source": [
    "### Type of file opening:-\n",
    "\n",
    "##### \"w\" ------> write \n",
    "##### \"r\" -------> read\n",
    "##### \"a\" -------> to rewrite/ edit/ append"
   ]
  },
  {
   "cell_type": "code",
   "execution_count": 149,
   "id": "aaa9bc1b",
   "metadata": {},
   "outputs": [],
   "source": [
    "#to open any file from foloder in write mode\n",
    "a_test = open(\"text.txt\", \"w\")"
   ]
  },
  {
   "cell_type": "code",
   "execution_count": 150,
   "id": "bacd03eb",
   "metadata": {},
   "outputs": [
    {
     "data": {
      "text/plain": [
       "<_io.TextIOWrapper name='text.txt' mode='w' encoding='cp1252'>"
      ]
     },
     "execution_count": 150,
     "metadata": {},
     "output_type": "execute_result"
    }
   ],
   "source": [
    "a_test"
   ]
  },
  {
   "cell_type": "code",
   "execution_count": 151,
   "id": "b1752acb",
   "metadata": {},
   "outputs": [
    {
     "data": {
      "text/plain": [
       "20"
      ]
     },
     "execution_count": 151,
     "metadata": {},
     "output_type": "execute_result"
    }
   ],
   "source": [
    "#to write in any files\n",
    "a_test.write(\"I am learning Python\") #it gives number of string length written "
   ]
  },
  {
   "cell_type": "code",
   "execution_count": 152,
   "id": "3e9dcd0d",
   "metadata": {},
   "outputs": [],
   "source": [
    "#to close that file\n",
    "a_test.close()"
   ]
  },
  {
   "cell_type": "code",
   "execution_count": 153,
   "id": "b55a00f1",
   "metadata": {},
   "outputs": [
    {
     "data": {
      "text/plain": [
       "79"
      ]
     },
     "execution_count": 153,
     "metadata": {},
     "output_type": "execute_result"
    }
   ],
   "source": [
    "#to rewrite or edit file mode\n",
    "b = open(\"text.txt\", \"a\")\n",
    "b.write(\" I am learning File opening in the python, There are still many things to learn\")"
   ]
  },
  {
   "cell_type": "code",
   "execution_count": 154,
   "id": "fc6ef9f6",
   "metadata": {},
   "outputs": [],
   "source": [
    "b.close()"
   ]
  },
  {
   "cell_type": "code",
   "execution_count": 155,
   "id": "12d35bfb",
   "metadata": {},
   "outputs": [],
   "source": [
    "#to read the file\n",
    "\n",
    "c = open(\"text.txt\", \"r\")"
   ]
  },
  {
   "cell_type": "code",
   "execution_count": 156,
   "id": "13f83b26",
   "metadata": {},
   "outputs": [
    {
     "data": {
      "text/plain": [
       "'I am learning Python I am learning File opening in the python, There are still many things to learn'"
      ]
     },
     "execution_count": 156,
     "metadata": {},
     "output_type": "execute_result"
    }
   ],
   "source": [
    "#to read content\n",
    "c.read()"
   ]
  },
  {
   "cell_type": "code",
   "execution_count": 157,
   "id": "299a89c0",
   "metadata": {},
   "outputs": [
    {
     "data": {
      "text/plain": [
       "''"
      ]
     },
     "execution_count": 157,
     "metadata": {},
     "output_type": "execute_result"
    }
   ],
   "source": [
    "#to readline the content of the file ---> emnty string od file\n",
    "c.readline()"
   ]
  },
  {
   "cell_type": "code",
   "execution_count": 158,
   "id": "e4d644f1",
   "metadata": {},
   "outputs": [],
   "source": [
    "c.close()"
   ]
  },
  {
   "cell_type": "markdown",
   "id": "58b771fd",
   "metadata": {},
   "source": [
    "## 6.) Python Statements"
   ]
  },
  {
   "cell_type": "markdown",
   "id": "1073d28f",
   "metadata": {},
   "source": [
    "### Conditional Statements"
   ]
  },
  {
   "cell_type": "markdown",
   "id": "4db2ea8a",
   "metadata": {},
   "source": [
    "#### if ------> Executes if statement is True\n",
    "#### elif -------> Executes if statment is true &  if \"if\" & above \"elif\" statements are false\n",
    "#### else -----> Executes if all \"if\" & \"elifs\" statement are false"
   ]
  },
  {
   "cell_type": "code",
   "execution_count": 159,
   "id": "42d23442",
   "metadata": {},
   "outputs": [
    {
     "name": "stdout",
     "output_type": "stream",
     "text": [
      "You are correct\n"
     ]
    }
   ],
   "source": [
    "#if statement \n",
    "\n",
    "x = 8\n",
    "\n",
    "if x == 8:\n",
    "    print(\"You are correct\")"
   ]
  },
  {
   "cell_type": "code",
   "execution_count": 160,
   "id": "6a4accd4",
   "metadata": {},
   "outputs": [
    {
     "name": "stdout",
     "output_type": "stream",
     "text": [
      "False\n"
     ]
    }
   ],
   "source": [
    "if not 1:\n",
    "    print(\"True\")\n",
    "else:\n",
    "    print(\"False\")"
   ]
  },
  {
   "cell_type": "code",
   "execution_count": 161,
   "id": "dcdac0a0",
   "metadata": {},
   "outputs": [
    {
     "name": "stdout",
     "output_type": "stream",
     "text": [
      "you have search wrong person\n"
     ]
    }
   ],
   "source": [
    "#else statement\n",
    "\n",
    "name = \"hemil\"\n",
    "\n",
    "if name == \"ayush\":\n",
    "    print (\"You have find right person !\")\n",
    "else:\n",
    "    print(\"you have search wrong person\")"
   ]
  },
  {
   "cell_type": "code",
   "execution_count": 162,
   "id": "186e54de",
   "metadata": {},
   "outputs": [
    {
     "name": "stdout",
     "output_type": "stream",
     "text": [
      "Now you can be sure\n"
     ]
    }
   ],
   "source": [
    "#elif statement\n",
    "\n",
    "lan = \"I am learning Python\"\n",
    "\n",
    "if \"C++\" in lan:\n",
    "    print(\"Please confirm once again\")\n",
    "elif \"c#\" in lan:\n",
    "    print(\"still confirm once again\")\n",
    "elif \"Python\" in lan: #it will work as Python is there in lan\n",
    "    print(\"Now you can be sure\")\n",
    "else:\n",
    "    print(\"You start learing python\")"
   ]
  },
  {
   "cell_type": "code",
   "execution_count": 163,
   "id": "9cbd6532",
   "metadata": {},
   "outputs": [
    {
     "name": "stdout",
     "output_type": "stream",
     "text": [
      "ayushayushayush\n"
     ]
    }
   ],
   "source": [
    "#combining & using the statments\n",
    "\n",
    "fun = {\"hello\" : 12, \"ayush\" : 23, \"gandhi\" :-1.4}\n",
    "name = \"ayush\"\n",
    "\n",
    "if name == \"hello\":\n",
    "    print(name*2)\n",
    "elif name == \"ayush\":\n",
    "    print(name*3)\n",
    "elif name == \"gandhi\":\n",
    "    print(name*4)\n",
    "else:\n",
    "    print(\"It is not present, you have to add\")"
   ]
  },
  {
   "cell_type": "markdown",
   "id": "cf13ccbd",
   "metadata": {},
   "source": [
    " ### Looping Statements "
   ]
  },
  {
   "cell_type": "markdown",
   "id": "30faa97d",
   "metadata": {},
   "source": [
    "#### for loop ----> it iterate every element in given condition\n",
    "#### while loop ----> loop will it iterate until condition becomes false"
   ]
  },
  {
   "cell_type": "code",
   "execution_count": 164,
   "id": "7075d638",
   "metadata": {},
   "outputs": [
    {
     "name": "stdout",
     "output_type": "stream",
     "text": [
      "2\n",
      "Hello\n",
      "True\n",
      "-15.23\n",
      "(-2+8j)\n"
     ]
    }
   ],
   "source": [
    "#for loop\n",
    "\n",
    "x = [2, \"Hello\", True, -15.23, 8j-2]\n",
    "\n",
    "for i in x:\n",
    "    print(i)"
   ]
  },
  {
   "cell_type": "code",
   "execution_count": 165,
   "id": "994a7f91",
   "metadata": {},
   "outputs": [
    {
     "name": "stdout",
     "output_type": "stream",
     "text": [
      "A\n",
      "y\n",
      "u\n",
      "s\n",
      "h\n",
      " \n",
      "G\n",
      "a\n",
      "n\n",
      "d\n",
      "h\n",
      "i\n"
     ]
    }
   ],
   "source": [
    "#example\n",
    "\n",
    "name = \"Ayush Gandhi\"\n",
    "\n",
    "for i in name:\n",
    "    print(i)"
   ]
  },
  {
   "cell_type": "code",
   "execution_count": 166,
   "id": "b7a683c9",
   "metadata": {},
   "outputs": [
    {
     "name": "stdout",
     "output_type": "stream",
     "text": [
      "[0, 1, 2, 3, 4, 5, 6, 7, 8, 9]\n",
      "0\n",
      "1\n",
      "2\n",
      "3\n",
      "4\n",
      "5\n",
      "6\n",
      "7\n",
      "8\n",
      "9\n"
     ]
    }
   ],
   "source": [
    "#range function ---> it iterate every number in given range, --> it is given by [start:stop:iterate]\n",
    "\n",
    "r1 = range(0, 10)\n",
    "print(list(r1))\n",
    "\n",
    "for i in r1:\n",
    "    print(i)"
   ]
  },
  {
   "cell_type": "code",
   "execution_count": 167,
   "id": "938237e6",
   "metadata": {},
   "outputs": [
    {
     "name": "stdout",
     "output_type": "stream",
     "text": [
      "-20\n",
      "-15\n",
      "-10\n",
      "-5\n",
      "0\n",
      "5\n",
      "10\n",
      "15\n"
     ]
    }
   ],
   "source": [
    "r2 = range(-20, 20, 5)\n",
    "\n",
    "for i in r2:\n",
    "    print(i)"
   ]
  },
  {
   "cell_type": "code",
   "execution_count": 168,
   "id": "9316eaa1",
   "metadata": {},
   "outputs": [
    {
     "name": "stdout",
     "output_type": "stream",
     "text": [
      "City\n",
      "Item\n"
     ]
    }
   ],
   "source": [
    "d = {\"City\" : [\"DEL\", \"MUM\", \"HYD\"], \"Item\" : [\"Chole\", \"Vadapav\", \"Dosa\"]}\n",
    "\n",
    "for i in d.keys():\n",
    "    print(i)"
   ]
  },
  {
   "cell_type": "code",
   "execution_count": 169,
   "id": "795dbbc1",
   "metadata": {},
   "outputs": [
    {
     "name": "stdout",
     "output_type": "stream",
     "text": [
      "Yes, I am reading\n",
      "Yes, I am reading\n",
      "Yes, I am reading\n",
      "Yes, I am reading\n",
      "Yes, I am reading\n",
      "Yes, I am reading\n",
      "Yes, I am reading\n",
      "Yes, I am reading\n",
      "Yes, I am reading\n",
      "Yes, I am reading\n"
     ]
    }
   ],
   "source": [
    "#while loop ---> iterate should be given until what condition it should run --> start point & iteration should be given\n",
    "\n",
    "i = 0\n",
    "while i < 10:\n",
    "    print(\"Yes, I am reading\")\n",
    "    i = i + 1 "
   ]
  },
  {
   "cell_type": "code",
   "execution_count": 170,
   "id": "59596ca1",
   "metadata": {},
   "outputs": [
    {
     "name": "stdout",
     "output_type": "stream",
     "text": [
      "10\n",
      "13\n",
      "16\n",
      "19\n",
      "22\n",
      "25\n",
      "28\n",
      "31\n",
      "34\n"
     ]
    }
   ],
   "source": [
    "a = 10\n",
    "b = 35\n",
    "\n",
    "while a < b:\n",
    "    print(a)\n",
    "    a = a + 3"
   ]
  },
  {
   "cell_type": "markdown",
   "id": "08893876",
   "metadata": {},
   "source": [
    "### Looping operation statements "
   ]
  },
  {
   "cell_type": "markdown",
   "id": "8b27b33f",
   "metadata": {},
   "source": [
    "#### break ---> Break out of current loop \n",
    "#### continue ---> Jump to top of enclosed loop\n",
    "#### pass ---> Does nothing, just pass statement"
   ]
  },
  {
   "cell_type": "code",
   "execution_count": 171,
   "id": "31a03b06",
   "metadata": {},
   "outputs": [
    {
     "name": "stdout",
     "output_type": "stream",
     "text": [
      "0\n",
      "1\n",
      "2\n",
      "3\n",
      "4\n"
     ]
    }
   ],
   "source": [
    "#break \n",
    "\n",
    "for i in range(0, 20):\n",
    "    if i == 5:\n",
    "        break\n",
    "    print(i)"
   ]
  },
  {
   "cell_type": "code",
   "execution_count": 172,
   "id": "72ff308d",
   "metadata": {},
   "outputs": [
    {
     "name": "stdout",
     "output_type": "stream",
     "text": [
      "8\n",
      "6\n",
      "4\n",
      "2\n",
      "0\n"
     ]
    }
   ],
   "source": [
    "#continue \n",
    "\n",
    "x = 10\n",
    "while x:\n",
    "    x = x-1\n",
    "    if x % 2 != 0:\n",
    "        continue\n",
    "    print(x)"
   ]
  },
  {
   "cell_type": "code",
   "execution_count": 173,
   "id": "f0c13a35",
   "metadata": {},
   "outputs": [],
   "source": [
    "#pass\n",
    "\n",
    "while False:\n",
    "    print(\"I am studying Pass statement\")\n",
    "    pass\n"
   ]
  },
  {
   "cell_type": "code",
   "execution_count": 174,
   "id": "829716ea",
   "metadata": {},
   "outputs": [
    {
     "name": "stdout",
     "output_type": "stream",
     "text": [
      "2 is factor of 2\n"
     ]
    }
   ],
   "source": [
    "#looping/ Nesting with else\n",
    "x = 40\n",
    "y = 2\n",
    "while x > 1:\n",
    "    if y % x == 0:\n",
    "        print(f\"{y} is factor of {x}\")\n",
    "        break\n",
    "    x -= 1\n",
    "else:\n",
    "    print(f\"{y} is prime\")\n",
    "              "
   ]
  },
  {
   "cell_type": "markdown",
   "id": "a4a13964",
   "metadata": {},
   "source": [
    "### Map & Zip function (similar to for loop)\n",
    "\n",
    "#### zip -----> It zip/ stores the data when executed & can be viwed by list of zip\n",
    "#### map -----> It maps out indiviudal elements in the list or dict "
   ]
  },
  {
   "cell_type": "code",
   "execution_count": 175,
   "id": "0a6d48de",
   "metadata": {},
   "outputs": [
    {
     "data": {
      "text/plain": [
       "<zip at 0x1b29aa02cc0>"
      ]
     },
     "execution_count": 175,
     "metadata": {},
     "output_type": "execute_result"
    }
   ],
   "source": [
    "#zip function\n",
    "\n",
    "z1 = [[1, 5, 9], {1, 2, 5}, (90, 14, 20)]\n",
    "z2 = [(1, 4, 9), [81, 16, 20]]\n",
    "\n",
    "zip(z1, z2)"
   ]
  },
  {
   "cell_type": "code",
   "execution_count": 176,
   "id": "4fae3f99",
   "metadata": {},
   "outputs": [
    {
     "data": {
      "text/plain": [
       "[([1, 5, 9], (1, 4, 9)), ({1, 2, 5}, [81, 16, 20])]"
      ]
     },
     "execution_count": 176,
     "metadata": {},
     "output_type": "execute_result"
    }
   ],
   "source": [
    "list(zip(z1, z2))"
   ]
  },
  {
   "cell_type": "code",
   "execution_count": 177,
   "id": "6e85fe96",
   "metadata": {},
   "outputs": [
    {
     "data": {
      "text/plain": [
       "[['P', 'y', 't', 'h', 'o', 'n'],\n",
       " ['M',\n",
       "  'a',\n",
       "  'c',\n",
       "  'h',\n",
       "  'i',\n",
       "  'n',\n",
       "  'e',\n",
       "  ' ',\n",
       "  'L',\n",
       "  'e',\n",
       "  'a',\n",
       "  'r',\n",
       "  'n',\n",
       "  'i',\n",
       "  'n',\n",
       "  'g'],\n",
       " ['D', 'a', 't', 'a', ' ', 'S', 'c', 'i', 'e', 'n', 'c', 'e']]"
      ]
     },
     "execution_count": 177,
     "metadata": {},
     "output_type": "execute_result"
    }
   ],
   "source": [
    "#map function\n",
    "\n",
    "m = [\"Python\", \"Machine Learning\", \"Data Science\"]\n",
    "list(map(list, m))"
   ]
  },
  {
   "cell_type": "markdown",
   "id": "5a28f390",
   "metadata": {},
   "source": [
    "## Iterators & Generators"
   ]
  },
  {
   "cell_type": "code",
   "execution_count": 178,
   "id": "692979e0",
   "metadata": {},
   "outputs": [],
   "source": [
    "la = enumerate(\"Linkedin\")"
   ]
  },
  {
   "cell_type": "code",
   "execution_count": 179,
   "id": "4594f73b",
   "metadata": {},
   "outputs": [
    {
     "data": {
      "text/plain": [
       "(0, 'L')"
      ]
     },
     "execution_count": 179,
     "metadata": {},
     "output_type": "execute_result"
    }
   ],
   "source": [
    "next(la) #it gives its index position with wlement "
   ]
  },
  {
   "cell_type": "code",
   "execution_count": 180,
   "id": "48ff4145",
   "metadata": {},
   "outputs": [
    {
     "data": {
      "text/plain": [
       "(1, 'i')"
      ]
     },
     "execution_count": 180,
     "metadata": {},
     "output_type": "execute_result"
    }
   ],
   "source": [
    "next(la)"
   ]
  },
  {
   "cell_type": "code",
   "execution_count": 181,
   "id": "ce145276",
   "metadata": {},
   "outputs": [
    {
     "data": {
      "text/plain": [
       "(2, 'n')"
      ]
     },
     "execution_count": 181,
     "metadata": {},
     "output_type": "execute_result"
    }
   ],
   "source": [
    "next(la)"
   ]
  },
  {
   "cell_type": "code",
   "execution_count": 182,
   "id": "166a4c2d",
   "metadata": {},
   "outputs": [
    {
     "data": {
      "text/plain": [
       "(3, 'k')"
      ]
     },
     "execution_count": 182,
     "metadata": {},
     "output_type": "execute_result"
    }
   ],
   "source": [
    "next(la)"
   ]
  },
  {
   "cell_type": "code",
   "execution_count": 183,
   "id": "0a2715c4",
   "metadata": {},
   "outputs": [],
   "source": [
    "#itering the obejects --> similar to enumerate function\n",
    "\n",
    "L = [100, -50, 400]\n",
    "i = iter(L)"
   ]
  },
  {
   "cell_type": "code",
   "execution_count": 184,
   "id": "eac3569f",
   "metadata": {},
   "outputs": [
    {
     "data": {
      "text/plain": [
       "100"
      ]
     },
     "execution_count": 184,
     "metadata": {},
     "output_type": "execute_result"
    }
   ],
   "source": [
    "#iter for 1st time --> 1st element\n",
    "i.__next__()"
   ]
  },
  {
   "cell_type": "code",
   "execution_count": 185,
   "id": "f924d258",
   "metadata": {},
   "outputs": [
    {
     "data": {
      "text/plain": [
       "-50"
      ]
     },
     "execution_count": 185,
     "metadata": {},
     "output_type": "execute_result"
    }
   ],
   "source": [
    "#iter for the 2nd time --> 2nd element\n",
    "i.__next__()"
   ]
  },
  {
   "cell_type": "code",
   "execution_count": 186,
   "id": "cc1c6799",
   "metadata": {},
   "outputs": [
    {
     "data": {
      "text/plain": [
       "400"
      ]
     },
     "execution_count": 186,
     "metadata": {},
     "output_type": "execute_result"
    }
   ],
   "source": [
    "#iter for the 3rd time--> 3rd element\n",
    "i.__next__()"
   ]
  },
  {
   "cell_type": "code",
   "execution_count": 187,
   "id": "bca6853a",
   "metadata": {},
   "outputs": [],
   "source": [
    "#eg\n",
    "r = range(-100, 0, 20)"
   ]
  },
  {
   "cell_type": "code",
   "execution_count": 188,
   "id": "5e8babd4",
   "metadata": {},
   "outputs": [],
   "source": [
    "i = iter(r)"
   ]
  },
  {
   "cell_type": "code",
   "execution_count": 189,
   "id": "4f7f16d3",
   "metadata": {},
   "outputs": [
    {
     "data": {
      "text/plain": [
       "-100"
      ]
     },
     "execution_count": 189,
     "metadata": {},
     "output_type": "execute_result"
    }
   ],
   "source": [
    "next(i)"
   ]
  },
  {
   "cell_type": "code",
   "execution_count": 190,
   "id": "163c9280",
   "metadata": {},
   "outputs": [
    {
     "data": {
      "text/plain": [
       "-80"
      ]
     },
     "execution_count": 190,
     "metadata": {},
     "output_type": "execute_result"
    }
   ],
   "source": [
    "next(i)"
   ]
  },
  {
   "cell_type": "code",
   "execution_count": 191,
   "id": "12efbe29",
   "metadata": {},
   "outputs": [
    {
     "data": {
      "text/plain": [
       "-60"
      ]
     },
     "execution_count": 191,
     "metadata": {},
     "output_type": "execute_result"
    }
   ],
   "source": [
    "next(i)"
   ]
  },
  {
   "cell_type": "code",
   "execution_count": 192,
   "id": "4e35719f",
   "metadata": {},
   "outputs": [
    {
     "data": {
      "text/plain": [
       "-40"
      ]
     },
     "execution_count": 192,
     "metadata": {},
     "output_type": "execute_result"
    }
   ],
   "source": [
    "next(i)"
   ]
  },
  {
   "cell_type": "code",
   "execution_count": 193,
   "id": "9a0dd77a",
   "metadata": {},
   "outputs": [
    {
     "data": {
      "text/plain": [
       "-20"
      ]
     },
     "execution_count": 193,
     "metadata": {},
     "output_type": "execute_result"
    }
   ],
   "source": [
    "next(i)"
   ]
  },
  {
   "cell_type": "markdown",
   "id": "2d2d4bbc",
   "metadata": {},
   "source": [
    "#### List Comprehension Methods\n",
    "\n",
    "##### It can be used to apply function in list"
   ]
  },
  {
   "cell_type": "code",
   "execution_count": 194,
   "id": "48d165a1",
   "metadata": {},
   "outputs": [],
   "source": [
    "L = [1, 2, 3, 4, 5]"
   ]
  },
  {
   "cell_type": "code",
   "execution_count": 195,
   "id": "8995a3ca",
   "metadata": {},
   "outputs": [],
   "source": [
    "L = [x*10 for x in L]"
   ]
  },
  {
   "cell_type": "code",
   "execution_count": 196,
   "id": "adec21e1",
   "metadata": {},
   "outputs": [
    {
     "data": {
      "text/plain": [
       "[10, 20, 30, 40, 50]"
      ]
     },
     "execution_count": 196,
     "metadata": {},
     "output_type": "execute_result"
    }
   ],
   "source": [
    "L"
   ]
  },
  {
   "cell_type": "code",
   "execution_count": 197,
   "id": "fdb9d56f",
   "metadata": {},
   "outputs": [],
   "source": [
    "# to append the elment in the list\n",
    "\n",
    "res = []\n",
    "for x in L:\n",
    "    res.append(x*10)"
   ]
  },
  {
   "cell_type": "code",
   "execution_count": 198,
   "id": "67736a9b",
   "metadata": {},
   "outputs": [
    {
     "data": {
      "text/plain": [
       "[100, 200, 300, 400, 500]"
      ]
     },
     "execution_count": 198,
     "metadata": {},
     "output_type": "execute_result"
    }
   ],
   "source": [
    "res"
   ]
  },
  {
   "cell_type": "markdown",
   "id": "f31173fb",
   "metadata": {},
   "source": [
    "## 7.) Functions"
   ]
  },
  {
   "cell_type": "markdown",
   "id": "fcf1666b",
   "metadata": {},
   "source": [
    "### Use for reusability of same code "
   ]
  },
  {
   "cell_type": "code",
   "execution_count": 199,
   "id": "805748cd",
   "metadata": {},
   "outputs": [],
   "source": [
    "#function can be define by def ---> defining function name with returning the value of function\n",
    "\n",
    "def add(a, b):\n",
    "    return a + b"
   ]
  },
  {
   "cell_type": "code",
   "execution_count": 200,
   "id": "1faba795",
   "metadata": {},
   "outputs": [
    {
     "data": {
      "text/plain": [
       "263"
      ]
     },
     "execution_count": 200,
     "metadata": {},
     "output_type": "execute_result"
    }
   ],
   "source": [
    "#calling the function\n",
    "add(10, 253)"
   ]
  },
  {
   "cell_type": "code",
   "execution_count": 201,
   "id": "ea79833d",
   "metadata": {},
   "outputs": [
    {
     "data": {
      "text/plain": [
       "85"
      ]
     },
     "execution_count": 201,
     "metadata": {},
     "output_type": "execute_result"
    }
   ],
   "source": [
    "add(-15, 100)"
   ]
  },
  {
   "cell_type": "code",
   "execution_count": 202,
   "id": "7a24a0e0",
   "metadata": {},
   "outputs": [
    {
     "data": {
      "text/plain": [
       "(-17.2+10j)"
      ]
     },
     "execution_count": 202,
     "metadata": {},
     "output_type": "execute_result"
    }
   ],
   "source": [
    "add(-19.2, 10j+2)"
   ]
  },
  {
   "cell_type": "code",
   "execution_count": 203,
   "id": "ed67f5c9",
   "metadata": {},
   "outputs": [
    {
     "data": {
      "text/plain": [
       "1"
      ]
     },
     "execution_count": 203,
     "metadata": {},
     "output_type": "execute_result"
    }
   ],
   "source": [
    "add(True, False)"
   ]
  },
  {
   "cell_type": "code",
   "execution_count": 204,
   "id": "97df8707",
   "metadata": {},
   "outputs": [],
   "source": [
    "def my_name():\n",
    "    return \"My name is Ayush\""
   ]
  },
  {
   "cell_type": "code",
   "execution_count": 205,
   "id": "dd90f624",
   "metadata": {},
   "outputs": [
    {
     "data": {
      "text/plain": [
       "'My name is Ayush'"
      ]
     },
     "execution_count": 205,
     "metadata": {},
     "output_type": "execute_result"
    }
   ],
   "source": [
    "#calling the function\n",
    "my_name()"
   ]
  },
  {
   "cell_type": "code",
   "execution_count": 206,
   "id": "928af430",
   "metadata": {},
   "outputs": [],
   "source": [
    "def odd_even(a):\n",
    "    if a %2 == 0:\n",
    "        print(\"even\")\n",
    "    else:\n",
    "        print(\"odd\")"
   ]
  },
  {
   "cell_type": "code",
   "execution_count": 207,
   "id": "f9d580af",
   "metadata": {},
   "outputs": [
    {
     "name": "stdout",
     "output_type": "stream",
     "text": [
      "odd\n"
     ]
    }
   ],
   "source": [
    "odd_even(299)"
   ]
  },
  {
   "cell_type": "code",
   "execution_count": 208,
   "id": "97036d78",
   "metadata": {},
   "outputs": [],
   "source": [
    "#all type of looping & conditional statement can be enclosed inside function. Eg. appending list\n",
    "\n",
    "def use(a):\n",
    "    l = [] #empty list\n",
    "    for i in a:\n",
    "        if type(i) == list:\n",
    "            for j in i:\n",
    "                l.append(j)\n",
    "    else:\n",
    "        if type(i) == int or type(i) == float:\n",
    "            l.append(i)\n",
    "    return l\n",
    "    "
   ]
  },
  {
   "cell_type": "code",
   "execution_count": 209,
   "id": "8af0130a",
   "metadata": {},
   "outputs": [],
   "source": [
    "k = [\"Ayush\", 2j-1, False, 19.15, (1, 2, 5), [\"List\", \"Tuple\", \"Set\"]]"
   ]
  },
  {
   "cell_type": "code",
   "execution_count": 210,
   "id": "87e69d49",
   "metadata": {},
   "outputs": [
    {
     "data": {
      "text/plain": [
       "['List', 'Tuple', 'Set']"
      ]
     },
     "execution_count": 210,
     "metadata": {},
     "output_type": "execute_result"
    }
   ],
   "source": [
    "#it will return the lists in the elements\n",
    "use(k)"
   ]
  },
  {
   "cell_type": "markdown",
   "id": "1fe35418",
   "metadata": {},
   "source": [
    "### Scopes \n",
    "\n",
    "#### Global - if initiated with function with global its value becomes global for that variable\n",
    "#### Local - if initated within function with global its, its value is temporary assign within the variables "
   ]
  },
  {
   "cell_type": "code",
   "execution_count": 211,
   "id": "ab882d35",
   "metadata": {},
   "outputs": [],
   "source": [
    "#global scope\n",
    "\n",
    "def glo():\n",
    "    global var\n",
    "    var += 1"
   ]
  },
  {
   "cell_type": "code",
   "execution_count": 212,
   "id": "738e4479",
   "metadata": {},
   "outputs": [],
   "source": [
    "#local \n",
    "\n",
    "def loc():\n",
    "    var = 0"
   ]
  },
  {
   "cell_type": "code",
   "execution_count": 213,
   "id": "f97544fd",
   "metadata": {},
   "outputs": [
    {
     "name": "stdout",
     "output_type": "stream",
     "text": [
      "88\n"
     ]
    }
   ],
   "source": [
    "#Nested inside function\n",
    "\n",
    "x = 99\n",
    "\n",
    "def f1():\n",
    "    x = 88\n",
    "    def f2():\n",
    "        print(x)\n",
    "    f2()\n",
    "f1() #f1() is called --> it will print 88 "
   ]
  },
  {
   "cell_type": "markdown",
   "id": "245ae96a",
   "metadata": {},
   "source": [
    "### Argumentation in function"
   ]
  },
  {
   "cell_type": "markdown",
   "id": "270542e0",
   "metadata": {},
   "source": [
    "#### name  -----> normal argument matches any pass value by position \n",
    "####  name = value ----> take default value, if not pass during cell\n",
    "#### *name ----> matches & collects given arguments in tuple (arguments)\n",
    "#### **name ----> matches & collects given arguments in dictonary (keywords arguments)"
   ]
  },
  {
   "cell_type": "code",
   "execution_count": 214,
   "id": "dae914d7",
   "metadata": {},
   "outputs": [],
   "source": [
    "def name(a, b, c):\n",
    "    return ((a*b)/c)"
   ]
  },
  {
   "cell_type": "code",
   "execution_count": 215,
   "id": "95ab7810",
   "metadata": {},
   "outputs": [
    {
     "data": {
      "text/plain": [
       "382.5"
      ]
     },
     "execution_count": 215,
     "metadata": {},
     "output_type": "execute_result"
    }
   ],
   "source": [
    "#name argument ---> give all parameters in given function\n",
    "\n",
    "name(15, 51, 2)"
   ]
  },
  {
   "cell_type": "code",
   "execution_count": 216,
   "id": "6750a40f",
   "metadata": {},
   "outputs": [],
   "source": [
    "#value whichever is define remains optional during calling functional\n",
    "def value(a, c, b= 6):\n",
    "    return ((a*b)/c)"
   ]
  },
  {
   "cell_type": "code",
   "execution_count": 217,
   "id": "e3343c1a",
   "metadata": {},
   "outputs": [
    {
     "data": {
      "text/plain": [
       "1.2"
      ]
     },
     "execution_count": 217,
     "metadata": {},
     "output_type": "execute_result"
    }
   ],
   "source": [
    "#\"b\" is define it will, by deafult it will take b as 6\n",
    "\n",
    "value(1, 5)"
   ]
  },
  {
   "cell_type": "code",
   "execution_count": 218,
   "id": "62fa535d",
   "metadata": {},
   "outputs": [],
   "source": [
    "#Arguments in function ---> return all argument in define in the function\n",
    "def arg(*args):\n",
    "    return args"
   ]
  },
  {
   "cell_type": "code",
   "execution_count": 219,
   "id": "be5b10e7",
   "metadata": {},
   "outputs": [
    {
     "data": {
      "text/plain": [
       "(1, 5, 52, 53)"
      ]
     },
     "execution_count": 219,
     "metadata": {},
     "output_type": "execute_result"
    }
   ],
   "source": [
    "arg(1, 5, 52, 53)"
   ]
  },
  {
   "cell_type": "code",
   "execution_count": 220,
   "id": "a871a1bb",
   "metadata": {},
   "outputs": [],
   "source": [
    "#Keywords arguments ----> return all argument with keyword define in the function\n",
    "\n",
    "def keyarg(**kwargs):\n",
    "    return kwargs"
   ]
  },
  {
   "cell_type": "code",
   "execution_count": 221,
   "id": "4bab15b7",
   "metadata": {},
   "outputs": [
    {
     "data": {
      "text/plain": [
       "{'a': 1, 'b': 53}"
      ]
     },
     "execution_count": 221,
     "metadata": {},
     "output_type": "execute_result"
    }
   ],
   "source": [
    "keyarg(a=1, b=53)"
   ]
  },
  {
   "cell_type": "code",
   "execution_count": 222,
   "id": "d0ba279e",
   "metadata": {},
   "outputs": [],
   "source": [
    "#combining the elements, order is define by -->  name, name with value, arguments, keywords arguments\n",
    "\n",
    "def alll(a, *args, **kwargs):\n",
    "    return (a, args, kwargs)"
   ]
  },
  {
   "cell_type": "code",
   "execution_count": 223,
   "id": "4ef75f46",
   "metadata": {},
   "outputs": [
    {
     "data": {
      "text/plain": [
       "(2, (28, 50, 203), {'b': -5, 'c': 1.1})"
      ]
     },
     "execution_count": 223,
     "metadata": {},
     "output_type": "execute_result"
    }
   ],
   "source": [
    "#define 1st elements a, other elements as args, and after define elements as kwargs\n",
    "alll(2, 28, 50, 203, b = -5, c = 1.1)"
   ]
  },
  {
   "cell_type": "markdown",
   "id": "6f669b5f",
   "metadata": {},
   "source": [
    "### Functions using Lambada"
   ]
  },
  {
   "cell_type": "markdown",
   "id": "dd8b1e3c",
   "metadata": {},
   "source": [
    "#### Function can be define using lambda --> similar while defining function"
   ]
  },
  {
   "cell_type": "code",
   "execution_count": 224,
   "id": "ea050b96",
   "metadata": {},
   "outputs": [],
   "source": [
    "#defining function using lambda\n",
    "fun = lambda x, y, z : x + y + z"
   ]
  },
  {
   "cell_type": "code",
   "execution_count": 225,
   "id": "aa19183b",
   "metadata": {},
   "outputs": [
    {
     "data": {
      "text/plain": [
       "16"
      ]
     },
     "execution_count": 225,
     "metadata": {},
     "output_type": "execute_result"
    }
   ],
   "source": [
    "fun(2, 4, 10)"
   ]
  },
  {
   "cell_type": "code",
   "execution_count": 226,
   "id": "b4fe5a88",
   "metadata": {},
   "outputs": [
    {
     "data": {
      "text/plain": [
       "'ayush is nice'"
      ]
     },
     "execution_count": 226,
     "metadata": {},
     "output_type": "execute_result"
    }
   ],
   "source": [
    "fun(\"ayush\", \" is\", \" nice\")"
   ]
  },
  {
   "cell_type": "code",
   "execution_count": 227,
   "id": "a916e3d6",
   "metadata": {},
   "outputs": [],
   "source": [
    "eg = lambda a, b = 5 : (a/b)/b"
   ]
  },
  {
   "cell_type": "code",
   "execution_count": 228,
   "id": "005a79c2",
   "metadata": {},
   "outputs": [
    {
     "data": {
      "text/plain": [
       "1.0"
      ]
     },
     "execution_count": 228,
     "metadata": {},
     "output_type": "execute_result"
    }
   ],
   "source": [
    "eg(25)"
   ]
  },
  {
   "cell_type": "markdown",
   "id": "d1eb7263",
   "metadata": {},
   "source": [
    "### List comprehension Methods"
   ]
  },
  {
   "cell_type": "code",
   "execution_count": 229,
   "id": "d2707773",
   "metadata": {},
   "outputs": [],
   "source": [
    "#appending in the list\n",
    "\n",
    "res = []\n",
    "for i in \"ayush\":\n",
    "    res.append(ord(i)) #ord is ASCII code of all letter\n",
    "#it will append with code number of letter \"Ayush\""
   ]
  },
  {
   "cell_type": "code",
   "execution_count": 230,
   "id": "18a4bfbe",
   "metadata": {},
   "outputs": [
    {
     "data": {
      "text/plain": [
       "[97, 121, 117, 115, 104]"
      ]
     },
     "execution_count": 230,
     "metadata": {},
     "output_type": "execute_result"
    }
   ],
   "source": [
    "res"
   ]
  },
  {
   "cell_type": "code",
   "execution_count": 231,
   "id": "7fd2874b",
   "metadata": {},
   "outputs": [
    {
     "data": {
      "text/plain": [
       "[0, 1, 4, 9, 16, 25, 36, 49, 64, 81]"
      ]
     },
     "execution_count": 231,
     "metadata": {},
     "output_type": "execute_result"
    }
   ],
   "source": [
    "#to create using for\n",
    "\n",
    "[x**2 for x in range(0, 10)]"
   ]
  },
  {
   "cell_type": "code",
   "execution_count": 232,
   "id": "de09a500",
   "metadata": {},
   "outputs": [
    {
     "data": {
      "text/plain": [
       "[-4, -2]"
      ]
     },
     "execution_count": 232,
     "metadata": {},
     "output_type": "execute_result"
    }
   ],
   "source": [
    "#adding nested & loops \n",
    "[x for x in range (-5, 0) if x % 2 == 0 ]"
   ]
  },
  {
   "cell_type": "code",
   "execution_count": 233,
   "id": "d72a2340",
   "metadata": {},
   "outputs": [
    {
     "data": {
      "text/plain": [
       "[100, 200, 300, 101, 201, 301, 102, 202, 302]"
      ]
     },
     "execution_count": 233,
     "metadata": {},
     "output_type": "execute_result"
    }
   ],
   "source": [
    "#nested\n",
    "res = [x + y for x in [0, 1, 2] for y in [100, 200, 300]]\n",
    "res"
   ]
  },
  {
   "cell_type": "code",
   "execution_count": 234,
   "id": "6d1e44b0",
   "metadata": {},
   "outputs": [
    {
     "data": {
      "text/plain": [
       "['fF', 'fU', 'fN', 'uF', 'uU', 'uN', 'nF', 'nU', 'nN']"
      ]
     },
     "execution_count": 234,
     "metadata": {},
     "output_type": "execute_result"
    }
   ],
   "source": [
    "[x + y for x in 'fun' for y in 'FUN']"
   ]
  },
  {
   "cell_type": "markdown",
   "id": "d1ffcef2",
   "metadata": {},
   "source": [
    "### Generator Function\n",
    "\n",
    "#### Use to store the function & can be yield when required"
   ]
  },
  {
   "cell_type": "code",
   "execution_count": 235,
   "id": "ec3e4d09",
   "metadata": {},
   "outputs": [],
   "source": [
    "#generator function \n",
    "\n",
    "def gensquares(n):\n",
    "    for i in range(n):\n",
    "        yield i ** 2"
   ]
  },
  {
   "cell_type": "code",
   "execution_count": 236,
   "id": "1f612be2",
   "metadata": {},
   "outputs": [
    {
     "data": {
      "text/plain": [
       "<generator object gensquares at 0x000001B29AA39040>"
      ]
     },
     "execution_count": 236,
     "metadata": {},
     "output_type": "execute_result"
    }
   ],
   "source": [
    "gensquares(4)"
   ]
  },
  {
   "cell_type": "code",
   "execution_count": 237,
   "id": "ba38ea2b",
   "metadata": {},
   "outputs": [
    {
     "data": {
      "text/plain": [
       "[0, 1, 4, 9]"
      ]
     },
     "execution_count": 237,
     "metadata": {},
     "output_type": "execute_result"
    }
   ],
   "source": [
    "list(gensquares(4))"
   ]
  },
  {
   "cell_type": "code",
   "execution_count": 238,
   "id": "4dcf4cec",
   "metadata": {},
   "outputs": [],
   "source": [
    "def both(N):\n",
    "    yield from range(N)\n",
    "    yield from (x ** 3 for x in range(N))"
   ]
  },
  {
   "cell_type": "code",
   "execution_count": 239,
   "id": "ff48554b",
   "metadata": {},
   "outputs": [
    {
     "data": {
      "text/plain": [
       "[0, 1, 2, 3, 0, 1, 8, 27]"
      ]
     },
     "execution_count": 239,
     "metadata": {},
     "output_type": "execute_result"
    }
   ],
   "source": [
    "list(both(4))"
   ]
  },
  {
   "cell_type": "markdown",
   "id": "cc90850c",
   "metadata": {},
   "source": [
    "## 8.) Modules & Packages\n",
    "\n",
    "#### import ----> let to fetch module as whole\n",
    "#### from ----> allows to fetch particular name from module"
   ]
  },
  {
   "cell_type": "markdown",
   "id": "f744de66",
   "metadata": {},
   "source": [
    "### Module - Combination of numerous functions & global variable (Can be created)\n",
    "### Package - Modified by user interpreted code "
   ]
  },
  {
   "cell_type": "code",
   "execution_count": 240,
   "id": "6b2ccef0",
   "metadata": {},
   "outputs": [],
   "source": [
    "#if any module save in the local file it can be imported using the import (it can be saved in the form of .py file)\n",
    "#all function in written in the file can be imported \n",
    "\n",
    "import ayush \n",
    "\n",
    "#file name ayush have been saved in python"
   ]
  },
  {
   "cell_type": "code",
   "execution_count": 241,
   "id": "501bb62d",
   "metadata": {},
   "outputs": [
    {
     "data": {
      "text/plain": [
       "7"
      ]
     },
     "execution_count": 241,
     "metadata": {},
     "output_type": "execute_result"
    }
   ],
   "source": [
    "#ayush has various function define & it can be used as package, It can be called by module.function\n",
    "ayush.add(2, 5) "
   ]
  },
  {
   "cell_type": "code",
   "execution_count": 242,
   "id": "e42ea9b1",
   "metadata": {},
   "outputs": [
    {
     "data": {
      "text/plain": [
       "5"
      ]
     },
     "execution_count": 242,
     "metadata": {},
     "output_type": "execute_result"
    }
   ],
   "source": [
    "ayush.sub(-1, -6)"
   ]
  },
  {
   "cell_type": "code",
   "execution_count": 243,
   "id": "4cf02bf2",
   "metadata": {},
   "outputs": [
    {
     "data": {
      "text/plain": [
       "350"
      ]
     },
     "execution_count": 243,
     "metadata": {},
     "output_type": "execute_result"
    }
   ],
   "source": [
    "ayush.mul(10, 35)"
   ]
  },
  {
   "cell_type": "code",
   "execution_count": 244,
   "id": "72ae895c",
   "metadata": {},
   "outputs": [
    {
     "data": {
      "text/plain": [
       "2.5"
      ]
     },
     "execution_count": 244,
     "metadata": {},
     "output_type": "execute_result"
    }
   ],
   "source": [
    "ayush.div(25, 10)"
   ]
  },
  {
   "cell_type": "code",
   "execution_count": 245,
   "id": "f62a7149",
   "metadata": {},
   "outputs": [
    {
     "data": {
      "text/plain": [
       "13.74772708486752"
      ]
     },
     "execution_count": 245,
     "metadata": {},
     "output_type": "execute_result"
    }
   ],
   "source": [
    "#some in built module like math, os, etc. can be used for calculating math, knowing current time etc.\n",
    "\n",
    "import math\n",
    "math.sqrt(189) #to find the square root of the number"
   ]
  },
  {
   "cell_type": "code",
   "execution_count": 246,
   "id": "989cdb00",
   "metadata": {},
   "outputs": [
    {
     "name": "stdout",
     "output_type": "stream",
     "text": [
      "Today's date: 2023-03-18\n"
     ]
    }
   ],
   "source": [
    "#for finding current date\n",
    "from datetime import date\n",
    "\n",
    "today = date.today()\n",
    "print(\"Today's date:\", today)"
   ]
  },
  {
   "cell_type": "code",
   "execution_count": 247,
   "id": "3c120402",
   "metadata": {},
   "outputs": [],
   "source": [
    "#Module Packages consist of submodules which consist of various type of sub-modules & functions also called as library\n",
    "#For Data Science the packages are imported like numpy, pandas, matplotlib etc.\n",
    "\n",
    "import numpy as np\n",
    "import pandas as pd\n",
    "import matplotlib as mt"
   ]
  },
  {
   "cell_type": "markdown",
   "id": "1fad0cde",
   "metadata": {},
   "source": [
    "## 9.) Classes & OOP (Object Oriented Programming)"
   ]
  },
  {
   "cell_type": "markdown",
   "id": "67f42f6a",
   "metadata": {},
   "source": [
    "### Class - Use for creating the object\n",
    "### Object Oriented Programming - Properties & Behaviours are bundled into objects"
   ]
  },
  {
   "cell_type": "code",
   "execution_count": 248,
   "id": "767e29b8",
   "metadata": {},
   "outputs": [],
   "source": [
    "#class - created by keyword class \n",
    "#object - created by constructor of class\n",
    "\n",
    "class first_class():\n",
    "    pass"
   ]
  },
  {
   "cell_type": "code",
   "execution_count": 249,
   "id": "bfd0742b",
   "metadata": {},
   "outputs": [],
   "source": [
    "#let call class \n",
    "\n",
    "ex = first_class()"
   ]
  },
  {
   "cell_type": "code",
   "execution_count": 250,
   "id": "1285de37",
   "metadata": {},
   "outputs": [
    {
     "name": "stdout",
     "output_type": "stream",
     "text": [
      "<class '__main__.first_class'>\n"
     ]
    }
   ],
   "source": [
    "print(type(ex))"
   ]
  },
  {
   "cell_type": "code",
   "execution_count": 251,
   "id": "4e79362e",
   "metadata": {},
   "outputs": [],
   "source": [
    "#creating class\n",
    "\n",
    "class talent:\n",
    "    \n",
    "    def cricket():\n",
    "        return (\"You love cricket\")"
   ]
  },
  {
   "cell_type": "code",
   "execution_count": 252,
   "id": "b5c16b63",
   "metadata": {},
   "outputs": [
    {
     "data": {
      "text/plain": [
       "'You love cricket'"
      ]
     },
     "execution_count": 252,
     "metadata": {},
     "output_type": "execute_result"
    }
   ],
   "source": [
    "#to call object\n",
    "\n",
    "talent.cricket()"
   ]
  },
  {
   "cell_type": "markdown",
   "id": "0558a87a",
   "metadata": {},
   "source": [
    "### Class Parameters\n",
    "\n",
    "#### __init__ ----> constructor, for creating instance for class\n",
    "#### self ----> can be automatically passed as first parameter, to define the class"
   ]
  },
  {
   "cell_type": "code",
   "execution_count": 253,
   "id": "fd7eb49e",
   "metadata": {},
   "outputs": [],
   "source": [
    "class sports:\n",
    "    \n",
    "    def __init__ (self, height, weight, game):\n",
    "        self.height = height\n",
    "        self.weight = weight\n",
    "        self.game = game\n",
    "        \n",
    "    def details (self):\n",
    "        return self.height, self.weight, self.game\n",
    "    "
   ]
  },
  {
   "cell_type": "code",
   "execution_count": 254,
   "id": "d79655b7",
   "metadata": {},
   "outputs": [],
   "source": [
    "Ayush = sports(170, 65, \"Cricket\")"
   ]
  },
  {
   "cell_type": "code",
   "execution_count": 255,
   "id": "af6b5b38",
   "metadata": {},
   "outputs": [
    {
     "data": {
      "text/plain": [
       "65"
      ]
     },
     "execution_count": 255,
     "metadata": {},
     "output_type": "execute_result"
    }
   ],
   "source": [
    "Ayush.weight"
   ]
  },
  {
   "cell_type": "code",
   "execution_count": 256,
   "id": "4c1248da",
   "metadata": {},
   "outputs": [
    {
     "data": {
      "text/plain": [
       "(170, 65, 'Cricket')"
      ]
     },
     "execution_count": 256,
     "metadata": {},
     "output_type": "execute_result"
    }
   ],
   "source": [
    "Ayush.details()"
   ]
  },
  {
   "cell_type": "code",
   "execution_count": 257,
   "id": "a56a19f9",
   "metadata": {},
   "outputs": [],
   "source": [
    "Hemil = sports(150, 50, \"Tennis\")"
   ]
  },
  {
   "cell_type": "code",
   "execution_count": 258,
   "id": "605a9cbd",
   "metadata": {},
   "outputs": [
    {
     "data": {
      "text/plain": [
       "'Tennis'"
      ]
     },
     "execution_count": 258,
     "metadata": {},
     "output_type": "execute_result"
    }
   ],
   "source": [
    "Hemil.game"
   ]
  },
  {
   "cell_type": "code",
   "execution_count": 259,
   "id": "389ee00d",
   "metadata": {},
   "outputs": [
    {
     "data": {
      "text/plain": [
       "(150, 50, 'Tennis')"
      ]
     },
     "execution_count": 259,
     "metadata": {},
     "output_type": "execute_result"
    }
   ],
   "source": [
    "Hemil.details()"
   ]
  },
  {
   "cell_type": "markdown",
   "id": "0835bc6c",
   "metadata": {},
   "source": [
    "### Inheritance \n",
    "\n",
    "#### OOP that allows class to inherit properties & behavior from another class "
   ]
  },
  {
   "cell_type": "code",
   "execution_count": 265,
   "id": "6fbb0a4f",
   "metadata": {},
   "outputs": [],
   "source": [
    "class p1:\n",
    "    def t1(self):\n",
    "        return \"p1\""
   ]
  },
  {
   "cell_type": "code",
   "execution_count": 266,
   "id": "32f2b226",
   "metadata": {},
   "outputs": [],
   "source": [
    "class p2:\n",
    "    def t2(self):\n",
    "        return \"p2\""
   ]
  },
  {
   "cell_type": "code",
   "execution_count": 267,
   "id": "8dba9a9d",
   "metadata": {},
   "outputs": [],
   "source": [
    "class p3:\n",
    "    def t3(self):\n",
    "        return \"p3\""
   ]
  },
  {
   "cell_type": "code",
   "execution_count": 277,
   "id": "d68472bc",
   "metadata": {},
   "outputs": [],
   "source": [
    "#single inheritance --> Inheriting property of single Parent class\n",
    "\n",
    "class c1(p1):\n",
    "    pass"
   ]
  },
  {
   "cell_type": "code",
   "execution_count": 269,
   "id": "0e54525c",
   "metadata": {},
   "outputs": [],
   "source": [
    "diya = c1()"
   ]
  },
  {
   "cell_type": "code",
   "execution_count": 270,
   "id": "6611ed8a",
   "metadata": {},
   "outputs": [
    {
     "data": {
      "text/plain": [
       "'p1'"
      ]
     },
     "execution_count": 270,
     "metadata": {},
     "output_type": "execute_result"
    }
   ],
   "source": [
    "#it has heritated properties of class p1\n",
    "diya.t1()"
   ]
  },
  {
   "cell_type": "code",
   "execution_count": 276,
   "id": "210fc7c3",
   "metadata": {},
   "outputs": [],
   "source": [
    "#multiple inheritance --> Inheriting properties of multiple Parent class\n",
    "\n",
    "class c2(p2, p3):\n",
    "    pass"
   ]
  },
  {
   "cell_type": "code",
   "execution_count": 273,
   "id": "336f7a95",
   "metadata": {},
   "outputs": [],
   "source": [
    "#it will heritage properties of two classes p2 & p3\n",
    "\n",
    "riya = c2()"
   ]
  },
  {
   "cell_type": "code",
   "execution_count": 275,
   "id": "2307c868",
   "metadata": {},
   "outputs": [
    {
     "name": "stdout",
     "output_type": "stream",
     "text": [
      "p2\n",
      "p3\n"
     ]
    }
   ],
   "source": [
    "print(riya.t2())\n",
    "print(riya.t3())"
   ]
  },
  {
   "cell_type": "code",
   "execution_count": 278,
   "id": "33d0ba59",
   "metadata": {},
   "outputs": [],
   "source": [
    "#multilevel inheritance --> Inheriting properties of parent class, again inheriting properties of that class and so on \n",
    "\n",
    "class x1:\n",
    "    def a1(self):\n",
    "        return \"x1 class\"\n",
    "    \n",
    "class x2(x1):\n",
    "    def a2(self):\n",
    "        return \"x2 class\"\n",
    "\n",
    "class x3(x2):\n",
    "    def a3(self):\n",
    "        return \"x3 class\""
   ]
  },
  {
   "cell_type": "code",
   "execution_count": 279,
   "id": "60f0cdf3",
   "metadata": {},
   "outputs": [],
   "source": [
    "Risa = x3()"
   ]
  },
  {
   "cell_type": "code",
   "execution_count": 280,
   "id": "62be31fb",
   "metadata": {},
   "outputs": [
    {
     "data": {
      "text/plain": [
       "'x1 class'"
      ]
     },
     "execution_count": 280,
     "metadata": {},
     "output_type": "execute_result"
    }
   ],
   "source": [
    "#Calling objects\n",
    "\n",
    "Risa.a1()"
   ]
  },
  {
   "cell_type": "code",
   "execution_count": 281,
   "id": "27e7a77c",
   "metadata": {},
   "outputs": [
    {
     "data": {
      "text/plain": [
       "'x2 class'"
      ]
     },
     "execution_count": 281,
     "metadata": {},
     "output_type": "execute_result"
    }
   ],
   "source": [
    "Risa.a2()"
   ]
  },
  {
   "cell_type": "code",
   "execution_count": 282,
   "id": "46a2108f",
   "metadata": {},
   "outputs": [
    {
     "data": {
      "text/plain": [
       "'x3 class'"
      ]
     },
     "execution_count": 282,
     "metadata": {},
     "output_type": "execute_result"
    }
   ],
   "source": [
    "Risa.a3()"
   ]
  },
  {
   "cell_type": "code",
   "execution_count": 287,
   "id": "2b37d736",
   "metadata": {},
   "outputs": [],
   "source": [
    "#Hybrid Inheritance --> Inheriting some properties from child class, some from parent class etc \n",
    "\n",
    "class new(x3, p3):\n",
    "    pass\n"
   ]
  },
  {
   "cell_type": "code",
   "execution_count": 288,
   "id": "1dcc057b",
   "metadata": {},
   "outputs": [],
   "source": [
    "Miya = new()"
   ]
  },
  {
   "cell_type": "code",
   "execution_count": 289,
   "id": "0e63be3d",
   "metadata": {},
   "outputs": [
    {
     "data": {
      "text/plain": [
       "'x3 class'"
      ]
     },
     "execution_count": 289,
     "metadata": {},
     "output_type": "execute_result"
    }
   ],
   "source": [
    "#It has inheritate properties some child class & some parent class inheritated during calling the function\n",
    "\n",
    "Miya.a3()"
   ]
  },
  {
   "cell_type": "code",
   "execution_count": 291,
   "id": "5604732d",
   "metadata": {},
   "outputs": [
    {
     "data": {
      "text/plain": [
       "'p3'"
      ]
     },
     "execution_count": 291,
     "metadata": {},
     "output_type": "execute_result"
    }
   ],
   "source": [
    "Miya.t3()"
   ]
  },
  {
   "cell_type": "markdown",
   "id": "5fcf4c46",
   "metadata": {},
   "source": [
    "### Polymorphism\n",
    "\n",
    "#### Allowing objects of different class to be treated as same one"
   ]
  },
  {
   "cell_type": "code",
   "execution_count": 323,
   "id": "e70335dc",
   "metadata": {},
   "outputs": [],
   "source": [
    "class python:\n",
    "    def lan(self) :\n",
    "        print(\"This is python\")"
   ]
  },
  {
   "cell_type": "code",
   "execution_count": 328,
   "id": "8e8f7b78",
   "metadata": {},
   "outputs": [],
   "source": [
    "class julia:\n",
    "    def lan(self) :\n",
    "        print(\"This is julia\")"
   ]
  },
  {
   "cell_type": "code",
   "execution_count": 329,
   "id": "2b94389e",
   "metadata": {},
   "outputs": [],
   "source": [
    "#polymorphysim \n",
    "def class_por(class_obj):\n",
    "    for i in class_obj:\n",
    "        i.lan()"
   ]
  },
  {
   "cell_type": "code",
   "execution_count": 331,
   "id": "cb7c4ddd",
   "metadata": {},
   "outputs": [],
   "source": [
    "python = python"
   ]
  },
  {
   "cell_type": "code",
   "execution_count": 332,
   "id": "7115396c",
   "metadata": {},
   "outputs": [],
   "source": [
    "julia = julia"
   ]
  },
  {
   "cell_type": "code",
   "execution_count": 335,
   "id": "e52fc6e7",
   "metadata": {},
   "outputs": [],
   "source": [
    "class_obj = [python, julia]"
   ]
  },
  {
   "cell_type": "markdown",
   "id": "e000d217",
   "metadata": {},
   "source": [
    "### Encapsulation \n",
    "\n",
    "#### Bundling of data and methods that manipulate that data into single"
   ]
  },
  {
   "cell_type": "code",
   "execution_count": 344,
   "id": "e7627554",
   "metadata": {},
   "outputs": [],
   "source": [
    "class movie:\n",
    "    def __init__(self, year, actor, movie, songs):\n",
    "        self.__year = year\n",
    "        self.__actor = actor\n",
    "        self.__movie = movie\n",
    "        self.__songs = 4"
   ]
  },
  {
   "cell_type": "code",
   "execution_count": 347,
   "id": "9670d7e2",
   "metadata": {},
   "outputs": [],
   "source": [
    "r = movie(2022,\"NTR\",\"RRR\",5)"
   ]
  },
  {
   "cell_type": "code",
   "execution_count": 348,
   "id": "d086c832",
   "metadata": {},
   "outputs": [
    {
     "data": {
      "text/plain": [
       "2022"
      ]
     },
     "execution_count": 348,
     "metadata": {},
     "output_type": "execute_result"
    }
   ],
   "source": [
    "r._movie__year"
   ]
  },
  {
   "cell_type": "markdown",
   "id": "f184947f",
   "metadata": {},
   "source": [
    "#### Class Methods\n",
    "\n",
    "#### Getter ---> Returns the current value of a private instance \n",
    "#### Setter ---> Sets a new value for private instance."
   ]
  },
  {
   "cell_type": "code",
   "execution_count": 351,
   "id": "32e19fdd",
   "metadata": {},
   "outputs": [],
   "source": [
    "class bank:\n",
    "    def __init__(self, balance) :\n",
    "        self.__balance = balance\n",
    "        \n",
    "    def deposit(self, amount) :\n",
    "        self.__balance = self.__balance + amount\n",
    "        \n",
    "    def withdraw(self, amount) :\n",
    "        if self.__balance >= amount :\n",
    "            self.__balance = self.__balance - amount\n",
    "            return True\n",
    "        else :\n",
    "            return False\n",
    "        \n",
    "    def get_balance(self):\n",
    "        return self.__balance"
   ]
  },
  {
   "cell_type": "code",
   "execution_count": 352,
   "id": "4fb0b54b",
   "metadata": {},
   "outputs": [],
   "source": [
    "Das = bank(400000)"
   ]
  },
  {
   "cell_type": "code",
   "execution_count": 354,
   "id": "02cb7a8a",
   "metadata": {},
   "outputs": [
    {
     "data": {
      "text/plain": [
       "400000"
      ]
     },
     "execution_count": 354,
     "metadata": {},
     "output_type": "execute_result"
    }
   ],
   "source": [
    "Das.get_balance()"
   ]
  },
  {
   "cell_type": "code",
   "execution_count": 355,
   "id": "44b1c735",
   "metadata": {},
   "outputs": [
    {
     "data": {
      "text/plain": [
       "True"
      ]
     },
     "execution_count": 355,
     "metadata": {},
     "output_type": "execute_result"
    }
   ],
   "source": [
    "Das.withdraw(10000)"
   ]
  },
  {
   "cell_type": "code",
   "execution_count": 356,
   "id": "400fa643",
   "metadata": {},
   "outputs": [
    {
     "data": {
      "text/plain": [
       "390000"
      ]
     },
     "execution_count": 356,
     "metadata": {},
     "output_type": "execute_result"
    }
   ],
   "source": [
    "Das.get_balance()"
   ]
  },
  {
   "cell_type": "code",
   "execution_count": 357,
   "id": "15036a35",
   "metadata": {},
   "outputs": [],
   "source": [
    "Das.deposit(5000)"
   ]
  },
  {
   "cell_type": "code",
   "execution_count": 358,
   "id": "1aee89fb",
   "metadata": {},
   "outputs": [
    {
     "data": {
      "text/plain": [
       "395000"
      ]
     },
     "execution_count": 358,
     "metadata": {},
     "output_type": "execute_result"
    }
   ],
   "source": [
    "Das.get_balance()"
   ]
  },
  {
   "cell_type": "markdown",
   "id": "ee384546",
   "metadata": {},
   "source": [
    "### Method Overloading \n",
    "#### Calling same method in different ways"
   ]
  },
  {
   "cell_type": "code",
   "execution_count": 376,
   "id": "9e61d3e8",
   "metadata": {},
   "outputs": [],
   "source": [
    "def product(a, b):\n",
    "    p = a * b\n",
    "    print(p)\n",
    "\n",
    "def product(a, b, c):\n",
    "    p = a * b*c\n",
    "    print(p)"
   ]
  },
  {
   "cell_type": "code",
   "execution_count": 377,
   "id": "6153b336",
   "metadata": {},
   "outputs": [
    {
     "name": "stdout",
     "output_type": "stream",
     "text": [
      "100\n"
     ]
    }
   ],
   "source": [
    "product(4, 5, 5)"
   ]
  },
  {
   "cell_type": "markdown",
   "id": "16f60fc0",
   "metadata": {},
   "source": [
    "### Method Overriding\n",
    "#### If child class uses same function of parent class, it will take function of child class"
   ]
  },
  {
   "cell_type": "code",
   "execution_count": 371,
   "id": "1947450b",
   "metadata": {},
   "outputs": [],
   "source": [
    "class Parent():\n",
    "      \n",
    "    # Constructor\n",
    "    def __init__(self):\n",
    "        self.value = \"Inside Parent\"\n",
    "          \n",
    "    # Parent's show method\n",
    "    def show(self):\n",
    "        print(self.value)"
   ]
  },
  {
   "cell_type": "code",
   "execution_count": 372,
   "id": "c48d9540",
   "metadata": {},
   "outputs": [],
   "source": [
    "# Defining child class\n",
    "class Child(Parent):\n",
    "      \n",
    "    # Constructor\n",
    "    def __init__(self):\n",
    "        self.value = \"Inside Child\"\n",
    "          \n",
    "    # Child's show method\n",
    "    def show(self):\n",
    "        print(self.value)\n",
    "          "
   ]
  },
  {
   "cell_type": "code",
   "execution_count": 373,
   "id": "4cc4ad69",
   "metadata": {},
   "outputs": [],
   "source": [
    "obj1 = Parent()\n",
    "obj2 = Child()"
   ]
  },
  {
   "cell_type": "code",
   "execution_count": 374,
   "id": "93ad4beb",
   "metadata": {},
   "outputs": [
    {
     "name": "stdout",
     "output_type": "stream",
     "text": [
      "Inside Parent\n",
      "Inside Child\n"
     ]
    }
   ],
   "source": [
    "obj1.show()\n",
    "obj2.show()"
   ]
  },
  {
   "cell_type": "markdown",
   "id": "e09fc498",
   "metadata": {},
   "source": [
    "## 10) Exceptional Handling\n",
    "#### to handle the errors which raises expection during program"
   ]
  },
  {
   "cell_type": "code",
   "execution_count": 385,
   "id": "ec3f091a",
   "metadata": {},
   "outputs": [
    {
     "ename": "ZeroDivisionError",
     "evalue": "division by zero",
     "output_type": "error",
     "traceback": [
      "\u001b[1;31m---------------------------------------------------------------------------\u001b[0m",
      "\u001b[1;31mZeroDivisionError\u001b[0m                         Traceback (most recent call last)",
      "Cell \u001b[1;32mIn[385], line 6\u001b[0m\n\u001b[0;32m      3\u001b[0m numerator \u001b[38;5;241m=\u001b[39m \u001b[38;5;241m59\u001b[39m\n\u001b[0;32m      4\u001b[0m denominator \u001b[38;5;241m=\u001b[39m \u001b[38;5;241m0\u001b[39m\n\u001b[1;32m----> 6\u001b[0m result \u001b[38;5;241m=\u001b[39m \u001b[43mnumerator\u001b[49m\u001b[38;5;241;43m/\u001b[39;49m\u001b[43mdenominator\u001b[49m\n\u001b[0;32m      7\u001b[0m \u001b[38;5;28mprint\u001b[39m(result)\n",
      "\u001b[1;31mZeroDivisionError\u001b[0m: division by zero"
     ]
    }
   ],
   "source": [
    "#some program gives error\n",
    "\n",
    "numerator = 59\n",
    "denominator = 0\n",
    "\n",
    "result = numerator/denominator\n",
    "print(result)"
   ]
  },
  {
   "cell_type": "code",
   "execution_count": 386,
   "id": "f67e1a74",
   "metadata": {},
   "outputs": [
    {
     "name": "stdout",
     "output_type": "stream",
     "text": [
      "Error: Denominator cannot be 0.\n"
     ]
    }
   ],
   "source": [
    "#to conquer error exceptional handling is use, which try to execute the program, if error arrises except block will be execute\n",
    "\n",
    "try:\n",
    "    numerator = 59\n",
    "    denominator = 0\n",
    "\n",
    "    result = numerator/denominator\n",
    "\n",
    "    print(result)\n",
    "except:\n",
    "    print(\"Error: Denominator cannot be 0.\")"
   ]
  },
  {
   "cell_type": "code",
   "execution_count": 389,
   "id": "baa12a5f",
   "metadata": {},
   "outputs": [
    {
     "name": "stdout",
     "output_type": "stream",
     "text": [
      "got exception\n"
     ]
    }
   ],
   "source": [
    "#Error can also be raise \n",
    "try:\n",
    "    raise IndexError \n",
    "except IndexError:\n",
    "    print('got exception')"
   ]
  },
  {
   "cell_type": "code",
   "execution_count": 390,
   "id": "9d5d721e",
   "metadata": {},
   "outputs": [],
   "source": [
    "#user define exception \n",
    "class AlreadyGotOne(Exception):\n",
    "    pass "
   ]
  },
  {
   "cell_type": "code",
   "execution_count": 391,
   "id": "d5d98ac0",
   "metadata": {},
   "outputs": [
    {
     "name": "stdout",
     "output_type": "stream",
     "text": [
      "got exception\n"
     ]
    }
   ],
   "source": [
    "def grail():\n",
    "    raise AlreadyGotOne() # Raise an instance\n",
    "try:\n",
    "    grail()\n",
    "except AlreadyGotOne: # Catch class name\n",
    "    print('got exception')"
   ]
  },
  {
   "cell_type": "code",
   "execution_count": 392,
   "id": "53859517",
   "metadata": {},
   "outputs": [
    {
     "name": "stdout",
     "output_type": "stream",
     "text": [
      "Can't divide by zero\n",
      "This is always executed\n"
     ]
    }
   ],
   "source": [
    "#finally can be added to the handling if function is need to be executed if everything failed\n",
    "try:\n",
    "    k = 5//0 \n",
    "    print(k)\n",
    "\n",
    "except ZeroDivisionError:\n",
    "    print(\"Can't divide by zero\")\n",
    "    \n",
    "finally:\n",
    "    # this block is always executed\n",
    "    # regardless of exception generation.\n",
    "    print('This is always executed')"
   ]
  },
  {
   "cell_type": "markdown",
   "id": "9b75441d",
   "metadata": {},
   "source": [
    "## 11.) Decorators\n",
    "\n",
    "#### Add new functionality to an existing object without modifying its structure"
   ]
  },
  {
   "cell_type": "code",
   "execution_count": 397,
   "id": "a674439c",
   "metadata": {},
   "outputs": [],
   "source": [
    "def hello(func):\n",
    "    def inner1(*args, **kwargs):\n",
    "         \n",
    "        print(\"before Execution\")\n",
    "\n",
    "        returned_value = func(*args, **kwargs)\n",
    "        print(\"after Execution\")\n",
    "\n",
    "        return returned_value\n",
    "         \n",
    "    return inner1"
   ]
  },
  {
   "cell_type": "code",
   "execution_count": 398,
   "id": "7f9a6059",
   "metadata": {},
   "outputs": [],
   "source": [
    "#adding functionally to function with decorator\n",
    "@hello\n",
    "def sum_two_numbers(a, b):\n",
    "    print(\"Inside the function\")\n",
    "    return a + b"
   ]
  },
  {
   "cell_type": "code",
   "execution_count": 399,
   "id": "728cf87d",
   "metadata": {},
   "outputs": [
    {
     "name": "stdout",
     "output_type": "stream",
     "text": [
      "before Execution\n",
      "Inside the function\n",
      "after Execution\n",
      "Sum = -90\n"
     ]
    }
   ],
   "source": [
    "#same functionality has been added to function of hello\n",
    "a = 10\n",
    "b = -100\n",
    "print(\"Sum =\", sum_two_numbers(a, b))"
   ]
  },
  {
   "cell_type": "markdown",
   "id": "258bd67a",
   "metadata": {},
   "source": [
    "### Static method in class\n",
    "\n",
    "#### Function decorator added in class"
   ]
  },
  {
   "cell_type": "code",
   "execution_count": 400,
   "id": "a08ca366",
   "metadata": {},
   "outputs": [],
   "source": [
    "class student:\n",
    "    def details(self, name, id_):\n",
    "        print(name, id_)"
   ]
  },
  {
   "cell_type": "code",
   "execution_count": 401,
   "id": "28204b1c",
   "metadata": {},
   "outputs": [],
   "source": [
    "class teacher:\n",
    "    \n",
    "    def details(self, name, id_):\n",
    "        print(name, id_)\n",
    "    \n",
    "    @staticmethod\n",
    "    def mentor(new):\n",
    "        print(new)\n",
    "    def mentor2(self, new2):\n",
    "        print(new2)"
   ]
  },
  {
   "cell_type": "code",
   "execution_count": 403,
   "id": "a8e41efa",
   "metadata": {},
   "outputs": [
    {
     "name": "stdout",
     "output_type": "stream",
     "text": [
      "['Jigya', 'Navya']\n"
     ]
    }
   ],
   "source": [
    "teacher.mentor([\"Jigya\", \"Navya\"])"
   ]
  },
  {
   "cell_type": "markdown",
   "id": "db138921",
   "metadata": {},
   "source": [
    "## 12.) Logging \n",
    "\n",
    "### Module to write message to write message to file happening to the code"
   ]
  },
  {
   "cell_type": "markdown",
   "id": "a990f528",
   "metadata": {},
   "source": [
    "### Level of log:\n",
    "\n",
    "#### 1.) NOTSET (Score = 0)\n",
    "#### 2.) DEBUG (Score = 10)\n",
    "#### 3.) INFO (Score = 20)\n",
    "#### 4.) WARNING (Score = 30)\n",
    "#### 5.) ERROR (Score = 40)\n",
    "#### 6.) CRITICAL (Score = 50)"
   ]
  },
  {
   "cell_type": "code",
   "execution_count": 404,
   "id": "8c5a0ad4",
   "metadata": {},
   "outputs": [],
   "source": [
    "#importing logging module \n",
    "import logging"
   ]
  },
  {
   "cell_type": "code",
   "execution_count": 405,
   "id": "15b7bee6",
   "metadata": {},
   "outputs": [],
   "source": [
    "#creating logging configure \n",
    "logging.basicConfig(filename=\"newfile.log\", format='%(asctime)s %(message)s', filemode='w')           "
   ]
  },
  {
   "cell_type": "code",
   "execution_count": 406,
   "id": "602dd59a",
   "metadata": {},
   "outputs": [],
   "source": [
    "#creating object & setting the logger to threshold \n",
    "logger = logging.getLogger()\n",
    "logger.setLevel(logging.DEBUG) #setting level to debug"
   ]
  },
  {
   "cell_type": "markdown",
   "id": "2f7190fa",
   "metadata": {},
   "source": [
    "## User Inputs\n",
    "\n",
    "### input method provide input from user "
   ]
  },
  {
   "cell_type": "code",
   "execution_count": 408,
   "id": "702b1b2c",
   "metadata": {},
   "outputs": [
    {
     "name": "stdout",
     "output_type": "stream",
     "text": [
      "That's the end of topics Ayush, How was my teaching ayush? It was absolutely nice python, Thank you for walking through all the topics\n"
     ]
    }
   ],
   "source": [
    "#input from the user\n",
    "\n",
    "python = input(\"That's the end of topics Ayush, How was my teaching ayush?\")"
   ]
  },
  {
   "cell_type": "code",
   "execution_count": 409,
   "id": "5b79999b",
   "metadata": {},
   "outputs": [
    {
     "name": "stdout",
     "output_type": "stream",
     "text": [
      "So how many different topics we learn? 12\n"
     ]
    }
   ],
   "source": [
    "#by default it is string it need to be converted into int or float to provide input in number\n",
    "\n",
    "ayush = int(input(\"So how many different topics we learn? \"))"
   ]
  },
  {
   "cell_type": "code",
   "execution_count": 411,
   "id": "a63107a5",
   "metadata": {},
   "outputs": [
    {
     "name": "stdout",
     "output_type": "stream",
     "text": [
      "By combining all the differnt things you can design full python module or code with it, Thanks for being with me!Thank you python !!\n"
     ]
    }
   ],
   "source": [
    "python = input(\"By combining all the differnt things you can design full python module or code with it, Thanks for being with me!\")"
   ]
  },
  {
   "cell_type": "markdown",
   "id": "9d3f5b68",
   "metadata": {},
   "source": [
    "##  -------------------------------------------------The end-----------------------------------------------------------------"
   ]
  }
 ],
 "metadata": {
  "kernelspec": {
   "display_name": "Python 3 (ipykernel)",
   "language": "python",
   "name": "python3"
  },
  "language_info": {
   "codemirror_mode": {
    "name": "ipython",
    "version": 3
   },
   "file_extension": ".py",
   "mimetype": "text/x-python",
   "name": "python",
   "nbconvert_exporter": "python",
   "pygments_lexer": "ipython3",
   "version": "3.9.16"
  }
 },
 "nbformat": 4,
 "nbformat_minor": 5
}
